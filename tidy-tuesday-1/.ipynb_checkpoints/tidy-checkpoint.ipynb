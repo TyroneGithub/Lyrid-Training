{
 "cells": [
  {
   "cell_type": "code",
   "execution_count": 1,
   "id": "heavy-watershed",
   "metadata": {},
   "outputs": [],
   "source": [
    "import os\n",
    "\n",
    "import numpy as np\n",
    "import pandas as pd\n",
    "import matplotlib.pyplot as plt"
   ]
  },
  {
   "cell_type": "code",
   "execution_count": 2,
   "id": "treated-japan",
   "metadata": {},
   "outputs": [],
   "source": [
    "resto = pd.read_csv('Top250.csv')"
   ]
  },
  {
   "cell_type": "markdown",
   "id": "occupied-second",
   "metadata": {},
   "source": [
    "# Data Preparation\n",
    "Quick look at the data, and its data types and the null values present "
   ]
  },
  {
   "cell_type": "markdown",
   "id": "respiratory-joyce",
   "metadata": {},
   "source": [
    "Display first 5 values "
   ]
  },
  {
   "cell_type": "code",
   "execution_count": 3,
   "id": "tight-limitation",
   "metadata": {},
   "outputs": [
    {
     "data": {
      "text/html": [
       "<div>\n",
       "<style scoped>\n",
       "    .dataframe tbody tr th:only-of-type {\n",
       "        vertical-align: middle;\n",
       "    }\n",
       "\n",
       "    .dataframe tbody tr th {\n",
       "        vertical-align: top;\n",
       "    }\n",
       "\n",
       "    .dataframe thead th {\n",
       "        text-align: right;\n",
       "    }\n",
       "</style>\n",
       "<table border=\"1\" class=\"dataframe\">\n",
       "  <thead>\n",
       "    <tr style=\"text-align: right;\">\n",
       "      <th></th>\n",
       "      <th>Rank</th>\n",
       "      <th>Restaurant</th>\n",
       "      <th>Content</th>\n",
       "      <th>Sales</th>\n",
       "      <th>YOY_Sales</th>\n",
       "      <th>Units</th>\n",
       "      <th>YOY_Units</th>\n",
       "      <th>Headquarters</th>\n",
       "      <th>Segment_Category</th>\n",
       "    </tr>\n",
       "  </thead>\n",
       "  <tbody>\n",
       "    <tr>\n",
       "      <th>0</th>\n",
       "      <td>1</td>\n",
       "      <td>McDonald's</td>\n",
       "      <td>NaN</td>\n",
       "      <td>40412</td>\n",
       "      <td>4.9%</td>\n",
       "      <td>13846</td>\n",
       "      <td>-0.5%</td>\n",
       "      <td>NaN</td>\n",
       "      <td>Quick Service &amp; Burger</td>\n",
       "    </tr>\n",
       "    <tr>\n",
       "      <th>1</th>\n",
       "      <td>2</td>\n",
       "      <td>Starbucks</td>\n",
       "      <td>NaN</td>\n",
       "      <td>21380</td>\n",
       "      <td>8.6%</td>\n",
       "      <td>15049</td>\n",
       "      <td>3.0%</td>\n",
       "      <td>NaN</td>\n",
       "      <td>Quick Service &amp; Coffee Cafe</td>\n",
       "    </tr>\n",
       "    <tr>\n",
       "      <th>2</th>\n",
       "      <td>3</td>\n",
       "      <td>Chick-fil-A</td>\n",
       "      <td>While Popeyes got a lot of the chicken buzz in...</td>\n",
       "      <td>11320</td>\n",
       "      <td>13.0%</td>\n",
       "      <td>2470</td>\n",
       "      <td>5.0%</td>\n",
       "      <td>NaN</td>\n",
       "      <td>Quick Service &amp; Chicken</td>\n",
       "    </tr>\n",
       "    <tr>\n",
       "      <th>3</th>\n",
       "      <td>4</td>\n",
       "      <td>Taco Bell</td>\n",
       "      <td>NaN</td>\n",
       "      <td>11293</td>\n",
       "      <td>9.0%</td>\n",
       "      <td>6766</td>\n",
       "      <td>2.7%</td>\n",
       "      <td>NaN</td>\n",
       "      <td>Quick Service &amp; Mexican</td>\n",
       "    </tr>\n",
       "    <tr>\n",
       "      <th>4</th>\n",
       "      <td>5</td>\n",
       "      <td>Burger King</td>\n",
       "      <td>NaN</td>\n",
       "      <td>10204</td>\n",
       "      <td>2.7%</td>\n",
       "      <td>7346</td>\n",
       "      <td>0.2%</td>\n",
       "      <td>NaN</td>\n",
       "      <td>Quick Service &amp; Burger</td>\n",
       "    </tr>\n",
       "  </tbody>\n",
       "</table>\n",
       "</div>"
      ],
      "text/plain": [
       "   Rank   Restaurant                                            Content  \\\n",
       "0     1   McDonald's                                                NaN   \n",
       "1     2    Starbucks                                                NaN   \n",
       "2     3  Chick-fil-A  While Popeyes got a lot of the chicken buzz in...   \n",
       "3     4    Taco Bell                                                NaN   \n",
       "4     5  Burger King                                                NaN   \n",
       "\n",
       "   Sales YOY_Sales  Units YOY_Units Headquarters             Segment_Category  \n",
       "0  40412      4.9%  13846     -0.5%          NaN       Quick Service & Burger  \n",
       "1  21380      8.6%  15049      3.0%          NaN  Quick Service & Coffee Cafe  \n",
       "2  11320     13.0%   2470      5.0%          NaN      Quick Service & Chicken  \n",
       "3  11293      9.0%   6766      2.7%          NaN      Quick Service & Mexican  \n",
       "4  10204      2.7%   7346      0.2%          NaN       Quick Service & Burger  "
      ]
     },
     "execution_count": 3,
     "metadata": {},
     "output_type": "execute_result"
    }
   ],
   "source": [
    "resto.head()"
   ]
  },
  {
   "cell_type": "markdown",
   "id": "prerequisite-native",
   "metadata": {},
   "source": [
    "Display data for each column"
   ]
  },
  {
   "cell_type": "code",
   "execution_count": 4,
   "id": "understanding-world",
   "metadata": {},
   "outputs": [
    {
     "data": {
      "text/plain": [
       "Rank                 int64\n",
       "Restaurant          object\n",
       "Content             object\n",
       "Sales                int64\n",
       "YOY_Sales           object\n",
       "Units                int64\n",
       "YOY_Units           object\n",
       "Headquarters        object\n",
       "Segment_Category    object\n",
       "dtype: object"
      ]
     },
     "execution_count": 4,
     "metadata": {},
     "output_type": "execute_result"
    }
   ],
   "source": [
    "resto.dtypes"
   ]
  },
  {
   "cell_type": "markdown",
   "id": "appreciated-milwaukee",
   "metadata": {},
   "source": [
    "Check for null values"
   ]
  },
  {
   "cell_type": "code",
   "execution_count": 5,
   "id": "printable-inventory",
   "metadata": {},
   "outputs": [
    {
     "data": {
      "text/html": [
       "<div>\n",
       "<style scoped>\n",
       "    .dataframe tbody tr th:only-of-type {\n",
       "        vertical-align: middle;\n",
       "    }\n",
       "\n",
       "    .dataframe tbody tr th {\n",
       "        vertical-align: top;\n",
       "    }\n",
       "\n",
       "    .dataframe thead th {\n",
       "        text-align: right;\n",
       "    }\n",
       "</style>\n",
       "<table border=\"1\" class=\"dataframe\">\n",
       "  <thead>\n",
       "    <tr style=\"text-align: right;\">\n",
       "      <th></th>\n",
       "      <th>Rank</th>\n",
       "      <th>Restaurant</th>\n",
       "      <th>Content</th>\n",
       "      <th>Sales</th>\n",
       "      <th>YOY_Sales</th>\n",
       "      <th>Units</th>\n",
       "      <th>YOY_Units</th>\n",
       "      <th>Headquarters</th>\n",
       "      <th>Segment_Category</th>\n",
       "    </tr>\n",
       "  </thead>\n",
       "  <tbody>\n",
       "    <tr>\n",
       "      <th>0</th>\n",
       "      <td>False</td>\n",
       "      <td>False</td>\n",
       "      <td>True</td>\n",
       "      <td>False</td>\n",
       "      <td>False</td>\n",
       "      <td>False</td>\n",
       "      <td>False</td>\n",
       "      <td>True</td>\n",
       "      <td>False</td>\n",
       "    </tr>\n",
       "    <tr>\n",
       "      <th>1</th>\n",
       "      <td>False</td>\n",
       "      <td>False</td>\n",
       "      <td>True</td>\n",
       "      <td>False</td>\n",
       "      <td>False</td>\n",
       "      <td>False</td>\n",
       "      <td>False</td>\n",
       "      <td>True</td>\n",
       "      <td>False</td>\n",
       "    </tr>\n",
       "    <tr>\n",
       "      <th>2</th>\n",
       "      <td>False</td>\n",
       "      <td>False</td>\n",
       "      <td>False</td>\n",
       "      <td>False</td>\n",
       "      <td>False</td>\n",
       "      <td>False</td>\n",
       "      <td>False</td>\n",
       "      <td>True</td>\n",
       "      <td>False</td>\n",
       "    </tr>\n",
       "    <tr>\n",
       "      <th>3</th>\n",
       "      <td>False</td>\n",
       "      <td>False</td>\n",
       "      <td>True</td>\n",
       "      <td>False</td>\n",
       "      <td>False</td>\n",
       "      <td>False</td>\n",
       "      <td>False</td>\n",
       "      <td>True</td>\n",
       "      <td>False</td>\n",
       "    </tr>\n",
       "    <tr>\n",
       "      <th>4</th>\n",
       "      <td>False</td>\n",
       "      <td>False</td>\n",
       "      <td>True</td>\n",
       "      <td>False</td>\n",
       "      <td>False</td>\n",
       "      <td>False</td>\n",
       "      <td>False</td>\n",
       "      <td>True</td>\n",
       "      <td>False</td>\n",
       "    </tr>\n",
       "    <tr>\n",
       "      <th>...</th>\n",
       "      <td>...</td>\n",
       "      <td>...</td>\n",
       "      <td>...</td>\n",
       "      <td>...</td>\n",
       "      <td>...</td>\n",
       "      <td>...</td>\n",
       "      <td>...</td>\n",
       "      <td>...</td>\n",
       "      <td>...</td>\n",
       "    </tr>\n",
       "    <tr>\n",
       "      <th>245</th>\n",
       "      <td>False</td>\n",
       "      <td>False</td>\n",
       "      <td>True</td>\n",
       "      <td>False</td>\n",
       "      <td>False</td>\n",
       "      <td>False</td>\n",
       "      <td>False</td>\n",
       "      <td>True</td>\n",
       "      <td>False</td>\n",
       "    </tr>\n",
       "    <tr>\n",
       "      <th>246</th>\n",
       "      <td>False</td>\n",
       "      <td>False</td>\n",
       "      <td>True</td>\n",
       "      <td>False</td>\n",
       "      <td>False</td>\n",
       "      <td>False</td>\n",
       "      <td>False</td>\n",
       "      <td>True</td>\n",
       "      <td>False</td>\n",
       "    </tr>\n",
       "    <tr>\n",
       "      <th>247</th>\n",
       "      <td>False</td>\n",
       "      <td>False</td>\n",
       "      <td>True</td>\n",
       "      <td>False</td>\n",
       "      <td>False</td>\n",
       "      <td>False</td>\n",
       "      <td>False</td>\n",
       "      <td>True</td>\n",
       "      <td>False</td>\n",
       "    </tr>\n",
       "    <tr>\n",
       "      <th>248</th>\n",
       "      <td>False</td>\n",
       "      <td>False</td>\n",
       "      <td>True</td>\n",
       "      <td>False</td>\n",
       "      <td>False</td>\n",
       "      <td>False</td>\n",
       "      <td>False</td>\n",
       "      <td>True</td>\n",
       "      <td>False</td>\n",
       "    </tr>\n",
       "    <tr>\n",
       "      <th>249</th>\n",
       "      <td>False</td>\n",
       "      <td>False</td>\n",
       "      <td>True</td>\n",
       "      <td>False</td>\n",
       "      <td>False</td>\n",
       "      <td>False</td>\n",
       "      <td>False</td>\n",
       "      <td>True</td>\n",
       "      <td>False</td>\n",
       "    </tr>\n",
       "  </tbody>\n",
       "</table>\n",
       "<p>250 rows × 9 columns</p>\n",
       "</div>"
      ],
      "text/plain": [
       "      Rank  Restaurant  Content  Sales  YOY_Sales  Units  YOY_Units  \\\n",
       "0    False       False     True  False      False  False      False   \n",
       "1    False       False     True  False      False  False      False   \n",
       "2    False       False    False  False      False  False      False   \n",
       "3    False       False     True  False      False  False      False   \n",
       "4    False       False     True  False      False  False      False   \n",
       "..     ...         ...      ...    ...        ...    ...        ...   \n",
       "245  False       False     True  False      False  False      False   \n",
       "246  False       False     True  False      False  False      False   \n",
       "247  False       False     True  False      False  False      False   \n",
       "248  False       False     True  False      False  False      False   \n",
       "249  False       False     True  False      False  False      False   \n",
       "\n",
       "     Headquarters  Segment_Category  \n",
       "0            True             False  \n",
       "1            True             False  \n",
       "2            True             False  \n",
       "3            True             False  \n",
       "4            True             False  \n",
       "..            ...               ...  \n",
       "245          True             False  \n",
       "246          True             False  \n",
       "247          True             False  \n",
       "248          True             False  \n",
       "249          True             False  \n",
       "\n",
       "[250 rows x 9 columns]"
      ]
     },
     "execution_count": 5,
     "metadata": {},
     "output_type": "execute_result"
    }
   ],
   "source": [
    "resto.isnull()"
   ]
  },
  {
   "cell_type": "markdown",
   "id": "union-appraisal",
   "metadata": {},
   "source": [
    "# Data Cleaning\n",
    "Remove columns with null values and convert data to its correct type"
   ]
  },
  {
   "cell_type": "markdown",
   "id": "wound-crowd",
   "metadata": {},
   "source": [
    "Remove columns content and headquarters since it contains null values"
   ]
  },
  {
   "cell_type": "code",
   "execution_count": 6,
   "id": "rising-bones",
   "metadata": {},
   "outputs": [],
   "source": [
    "resto_cleaned = resto.drop(['Content', 'Headquarters'], axis=1)"
   ]
  },
  {
   "cell_type": "markdown",
   "id": "british-lodge",
   "metadata": {},
   "source": [
    "Remove percentage symbol "
   ]
  },
  {
   "cell_type": "code",
   "execution_count": 7,
   "id": "opened-darwin",
   "metadata": {},
   "outputs": [],
   "source": [
    "resto_cleaned['YOY_Sales'] = list(map(lambda x : x[:-1], resto_cleaned['YOY_Sales']))\n",
    "resto_cleaned['YOY_Units'] = list(map(lambda x : x[:-1], resto_cleaned['YOY_Units']))"
   ]
  },
  {
   "cell_type": "markdown",
   "id": "potential-correspondence",
   "metadata": {},
   "source": [
    "Convert YOY_Sales and YOY_Units to float"
   ]
  },
  {
   "cell_type": "code",
   "execution_count": 8,
   "id": "purple-picking",
   "metadata": {},
   "outputs": [],
   "source": [
    "resto_cleaned['YOY_Sales'] = list(map(float, resto_cleaned['YOY_Sales']))\n",
    "resto_cleaned['YOY_Units'] = list(map(float, resto_cleaned['YOY_Units']))"
   ]
  },
  {
   "cell_type": "markdown",
   "id": "growing-millennium",
   "metadata": {},
   "source": [
    "Rename columns to clarify that the numbers are in percentage"
   ]
  },
  {
   "cell_type": "code",
   "execution_count": 9,
   "id": "convinced-surgery",
   "metadata": {},
   "outputs": [],
   "source": [
    "resto_cleaned = resto_cleaned.rename(columns={'YOY_Sales': 'YOY_Sales in (%)', 'YOY_Units': 'YOY_Units in (%)'})"
   ]
  },
  {
   "cell_type": "code",
   "execution_count": 10,
   "id": "direct-explorer",
   "metadata": {},
   "outputs": [
    {
     "data": {
      "text/html": [
       "<div>\n",
       "<style scoped>\n",
       "    .dataframe tbody tr th:only-of-type {\n",
       "        vertical-align: middle;\n",
       "    }\n",
       "\n",
       "    .dataframe tbody tr th {\n",
       "        vertical-align: top;\n",
       "    }\n",
       "\n",
       "    .dataframe thead th {\n",
       "        text-align: right;\n",
       "    }\n",
       "</style>\n",
       "<table border=\"1\" class=\"dataframe\">\n",
       "  <thead>\n",
       "    <tr style=\"text-align: right;\">\n",
       "      <th></th>\n",
       "      <th>Rank</th>\n",
       "      <th>Restaurant</th>\n",
       "      <th>Sales</th>\n",
       "      <th>YOY_Sales in (%)</th>\n",
       "      <th>Units</th>\n",
       "      <th>YOY_Units in (%)</th>\n",
       "      <th>Segment_Category</th>\n",
       "    </tr>\n",
       "  </thead>\n",
       "  <tbody>\n",
       "    <tr>\n",
       "      <th>0</th>\n",
       "      <td>1</td>\n",
       "      <td>McDonald's</td>\n",
       "      <td>40412</td>\n",
       "      <td>4.9</td>\n",
       "      <td>13846</td>\n",
       "      <td>-0.5</td>\n",
       "      <td>Quick Service &amp; Burger</td>\n",
       "    </tr>\n",
       "    <tr>\n",
       "      <th>1</th>\n",
       "      <td>2</td>\n",
       "      <td>Starbucks</td>\n",
       "      <td>21380</td>\n",
       "      <td>8.6</td>\n",
       "      <td>15049</td>\n",
       "      <td>3.0</td>\n",
       "      <td>Quick Service &amp; Coffee Cafe</td>\n",
       "    </tr>\n",
       "    <tr>\n",
       "      <th>2</th>\n",
       "      <td>3</td>\n",
       "      <td>Chick-fil-A</td>\n",
       "      <td>11320</td>\n",
       "      <td>13.0</td>\n",
       "      <td>2470</td>\n",
       "      <td>5.0</td>\n",
       "      <td>Quick Service &amp; Chicken</td>\n",
       "    </tr>\n",
       "    <tr>\n",
       "      <th>3</th>\n",
       "      <td>4</td>\n",
       "      <td>Taco Bell</td>\n",
       "      <td>11293</td>\n",
       "      <td>9.0</td>\n",
       "      <td>6766</td>\n",
       "      <td>2.7</td>\n",
       "      <td>Quick Service &amp; Mexican</td>\n",
       "    </tr>\n",
       "    <tr>\n",
       "      <th>4</th>\n",
       "      <td>5</td>\n",
       "      <td>Burger King</td>\n",
       "      <td>10204</td>\n",
       "      <td>2.7</td>\n",
       "      <td>7346</td>\n",
       "      <td>0.2</td>\n",
       "      <td>Quick Service &amp; Burger</td>\n",
       "    </tr>\n",
       "  </tbody>\n",
       "</table>\n",
       "</div>"
      ],
      "text/plain": [
       "   Rank   Restaurant  Sales  YOY_Sales in (%)  Units  YOY_Units in (%)  \\\n",
       "0     1   McDonald's  40412               4.9  13846              -0.5   \n",
       "1     2    Starbucks  21380               8.6  15049               3.0   \n",
       "2     3  Chick-fil-A  11320              13.0   2470               5.0   \n",
       "3     4    Taco Bell  11293               9.0   6766               2.7   \n",
       "4     5  Burger King  10204               2.7   7346               0.2   \n",
       "\n",
       "              Segment_Category  \n",
       "0       Quick Service & Burger  \n",
       "1  Quick Service & Coffee Cafe  \n",
       "2      Quick Service & Chicken  \n",
       "3      Quick Service & Mexican  \n",
       "4       Quick Service & Burger  "
      ]
     },
     "execution_count": 10,
     "metadata": {},
     "output_type": "execute_result"
    }
   ],
   "source": [
    "resto_cleaned.head()"
   ]
  },
  {
   "cell_type": "markdown",
   "id": "controlled-peninsula",
   "metadata": {},
   "source": [
    "# Data Analysis"
   ]
  },
  {
   "cell_type": "markdown",
   "id": "northern-glass",
   "metadata": {},
   "source": [
    "## Statistics\n",
    "\n",
    "Basic statistical analysis for quantitative data"
   ]
  },
  {
   "cell_type": "markdown",
   "id": "conscious-secretary",
   "metadata": {},
   "source": [
    "### Observation\n"
   ]
  },
  {
   "cell_type": "code",
   "execution_count": 11,
   "id": "apparent-twist",
   "metadata": {},
   "outputs": [
    {
     "data": {
      "text/html": [
       "<div>\n",
       "<style scoped>\n",
       "    .dataframe tbody tr th:only-of-type {\n",
       "        vertical-align: middle;\n",
       "    }\n",
       "\n",
       "    .dataframe tbody tr th {\n",
       "        vertical-align: top;\n",
       "    }\n",
       "\n",
       "    .dataframe thead th {\n",
       "        text-align: right;\n",
       "    }\n",
       "</style>\n",
       "<table border=\"1\" class=\"dataframe\">\n",
       "  <thead>\n",
       "    <tr style=\"text-align: right;\">\n",
       "      <th></th>\n",
       "      <th>Sales</th>\n",
       "      <th>Units</th>\n",
       "    </tr>\n",
       "  </thead>\n",
       "  <tbody>\n",
       "    <tr>\n",
       "      <th>count</th>\n",
       "      <td>250.00000</td>\n",
       "      <td>250.000000</td>\n",
       "    </tr>\n",
       "    <tr>\n",
       "      <th>mean</th>\n",
       "      <td>1242.74000</td>\n",
       "      <td>850.076000</td>\n",
       "    </tr>\n",
       "    <tr>\n",
       "      <th>std</th>\n",
       "      <td>3365.22882</td>\n",
       "      <td>2296.151659</td>\n",
       "    </tr>\n",
       "    <tr>\n",
       "      <th>min</th>\n",
       "      <td>126.00000</td>\n",
       "      <td>13.000000</td>\n",
       "    </tr>\n",
       "    <tr>\n",
       "      <th>25%</th>\n",
       "      <td>181.00000</td>\n",
       "      <td>85.000000</td>\n",
       "    </tr>\n",
       "    <tr>\n",
       "      <th>50%</th>\n",
       "      <td>330.00000</td>\n",
       "      <td>207.000000</td>\n",
       "    </tr>\n",
       "    <tr>\n",
       "      <th>75%</th>\n",
       "      <td>724.75000</td>\n",
       "      <td>555.250000</td>\n",
       "    </tr>\n",
       "    <tr>\n",
       "      <th>max</th>\n",
       "      <td>40412.00000</td>\n",
       "      <td>23801.000000</td>\n",
       "    </tr>\n",
       "  </tbody>\n",
       "</table>\n",
       "</div>"
      ],
      "text/plain": [
       "             Sales         Units\n",
       "count    250.00000    250.000000\n",
       "mean    1242.74000    850.076000\n",
       "std     3365.22882   2296.151659\n",
       "min      126.00000     13.000000\n",
       "25%      181.00000     85.000000\n",
       "50%      330.00000    207.000000\n",
       "75%      724.75000    555.250000\n",
       "max    40412.00000  23801.000000"
      ]
     },
     "execution_count": 11,
     "metadata": {},
     "output_type": "execute_result"
    }
   ],
   "source": [
    "resto_cleaned[['Sales', 'Units']].describe()"
   ]
  },
  {
   "cell_type": "code",
   "execution_count": 12,
   "id": "narrative-massage",
   "metadata": {},
   "outputs": [
    {
     "data": {
      "text/html": [
       "<div>\n",
       "<style scoped>\n",
       "    .dataframe tbody tr th:only-of-type {\n",
       "        vertical-align: middle;\n",
       "    }\n",
       "\n",
       "    .dataframe tbody tr th {\n",
       "        vertical-align: top;\n",
       "    }\n",
       "\n",
       "    .dataframe thead th {\n",
       "        text-align: right;\n",
       "    }\n",
       "</style>\n",
       "<table border=\"1\" class=\"dataframe\">\n",
       "  <thead>\n",
       "    <tr style=\"text-align: right;\">\n",
       "      <th></th>\n",
       "      <th>YOY_Sales in (%)</th>\n",
       "      <th>YOY_Units in (%)</th>\n",
       "    </tr>\n",
       "  </thead>\n",
       "  <tbody>\n",
       "    <tr>\n",
       "      <th>count</th>\n",
       "      <td>250.000000</td>\n",
       "      <td>250.000000</td>\n",
       "    </tr>\n",
       "    <tr>\n",
       "      <th>mean</th>\n",
       "      <td>2.938400</td>\n",
       "      <td>1.219200</td>\n",
       "    </tr>\n",
       "    <tr>\n",
       "      <th>std</th>\n",
       "      <td>8.953784</td>\n",
       "      <td>7.936431</td>\n",
       "    </tr>\n",
       "    <tr>\n",
       "      <th>min</th>\n",
       "      <td>-21.200000</td>\n",
       "      <td>-32.800000</td>\n",
       "    </tr>\n",
       "    <tr>\n",
       "      <th>25%</th>\n",
       "      <td>-2.375000</td>\n",
       "      <td>-2.025000</td>\n",
       "    </tr>\n",
       "    <tr>\n",
       "      <th>50%</th>\n",
       "      <td>2.200000</td>\n",
       "      <td>0.000000</td>\n",
       "    </tr>\n",
       "    <tr>\n",
       "      <th>75%</th>\n",
       "      <td>6.575000</td>\n",
       "      <td>3.475000</td>\n",
       "    </tr>\n",
       "    <tr>\n",
       "      <th>max</th>\n",
       "      <td>39.500000</td>\n",
       "      <td>38.500000</td>\n",
       "    </tr>\n",
       "  </tbody>\n",
       "</table>\n",
       "</div>"
      ],
      "text/plain": [
       "       YOY_Sales in (%)  YOY_Units in (%)\n",
       "count        250.000000        250.000000\n",
       "mean           2.938400          1.219200\n",
       "std            8.953784          7.936431\n",
       "min          -21.200000        -32.800000\n",
       "25%           -2.375000         -2.025000\n",
       "50%            2.200000          0.000000\n",
       "75%            6.575000          3.475000\n",
       "max           39.500000         38.500000"
      ]
     },
     "execution_count": 12,
     "metadata": {},
     "output_type": "execute_result"
    }
   ],
   "source": [
    "resto_cleaned[['YOY_Sales in (%)', 'YOY_Units in (%)']].describe()"
   ]
  },
  {
   "cell_type": "markdown",
   "id": "lyric-malpractice",
   "metadata": {},
   "source": [
    "Showing top 10 segment categories with highest frequency"
   ]
  },
  {
   "cell_type": "code",
   "execution_count": 13,
   "id": "emerging-period",
   "metadata": {},
   "outputs": [
    {
     "data": {
      "text/html": [
       "<div>\n",
       "<style scoped>\n",
       "    .dataframe tbody tr th:only-of-type {\n",
       "        vertical-align: middle;\n",
       "    }\n",
       "\n",
       "    .dataframe tbody tr th {\n",
       "        vertical-align: top;\n",
       "    }\n",
       "\n",
       "    .dataframe thead th {\n",
       "        text-align: right;\n",
       "    }\n",
       "</style>\n",
       "<table border=\"1\" class=\"dataframe\">\n",
       "  <thead>\n",
       "    <tr style=\"text-align: right;\">\n",
       "      <th></th>\n",
       "      <th>Segment_Category</th>\n",
       "    </tr>\n",
       "  </thead>\n",
       "  <tbody>\n",
       "    <tr>\n",
       "      <th>Varied Menu</th>\n",
       "      <td>22</td>\n",
       "    </tr>\n",
       "    <tr>\n",
       "      <th>Mexican</th>\n",
       "      <td>14</td>\n",
       "    </tr>\n",
       "    <tr>\n",
       "      <th>Quick Service &amp; Burger</th>\n",
       "      <td>13</td>\n",
       "    </tr>\n",
       "    <tr>\n",
       "      <th>Italian/Pizza</th>\n",
       "      <td>10</td>\n",
       "    </tr>\n",
       "    <tr>\n",
       "      <th>Family Style</th>\n",
       "      <td>10</td>\n",
       "    </tr>\n",
       "    <tr>\n",
       "      <th>Burger</th>\n",
       "      <td>10</td>\n",
       "    </tr>\n",
       "    <tr>\n",
       "      <th>Pizza</th>\n",
       "      <td>9</td>\n",
       "    </tr>\n",
       "    <tr>\n",
       "      <th>Steak</th>\n",
       "      <td>9</td>\n",
       "    </tr>\n",
       "    <tr>\n",
       "      <th>Casual Dining &amp; Varied Menu</th>\n",
       "      <td>9</td>\n",
       "    </tr>\n",
       "    <tr>\n",
       "      <th>Seafood</th>\n",
       "      <td>8</td>\n",
       "    </tr>\n",
       "  </tbody>\n",
       "</table>\n",
       "</div>"
      ],
      "text/plain": [
       "                             Segment_Category\n",
       "Varied Menu                                22\n",
       "Mexican                                    14\n",
       "Quick Service & Burger                     13\n",
       "Italian/Pizza                              10\n",
       "Family Style                               10\n",
       "Burger                                     10\n",
       "Pizza                                       9\n",
       "Steak                                       9\n",
       "Casual Dining & Varied Menu                 9\n",
       "Seafood                                     8"
      ]
     },
     "execution_count": 13,
     "metadata": {},
     "output_type": "execute_result"
    }
   ],
   "source": [
    "# resto_cleaned.groupby('Segment_Category').count()\n",
    "seg_count = resto_cleaned['Segment_Category'].value_counts().head(10)\n",
    "seg_count.to_frame()"
   ]
  },
  {
   "cell_type": "code",
   "execution_count": 14,
   "id": "instrumental-suffering",
   "metadata": {},
   "outputs": [
    {
     "data": {
      "text/plain": [
       "Text(0.5, 0, 'Frequency Count')"
      ]
     },
     "execution_count": 14,
     "metadata": {},
     "output_type": "execute_result"
    },
    {
     "data": {
      "image/png": "[encoded data removed]",
      "text/plain": [
       "<Figure size 648x432 with 1 Axes>"
      ]
     },
     "metadata": {
      "needs_background": "light"
     },
     "output_type": "display_data"
    }
   ],
   "source": [
    "ax = seg_count.plot.barh(figsize=(9,6), x=\"Segment_Category\")\n",
    "ax.set_title(\"Top 10 segment categories with highest frequency counts\")\n",
    "ax.set_ylabel(\"Segment Category\")\n",
    "ax.set_xlabel(\"Frequency Count\")"
   ]
  },
  {
   "cell_type": "markdown",
   "id": "hired-palmer",
   "metadata": {},
   "source": [
    "## Observation\n",
    "Most restaurants in dataset falls under the segment category of varied menu "
   ]
  },
  {
   "cell_type": "code",
   "execution_count": 15,
   "id": "systematic-cooperative",
   "metadata": {},
   "outputs": [
    {
     "data": {
      "text/html": [
       "<div>\n",
       "<style scoped>\n",
       "    .dataframe tbody tr th:only-of-type {\n",
       "        vertical-align: middle;\n",
       "    }\n",
       "\n",
       "    .dataframe tbody tr th {\n",
       "        vertical-align: top;\n",
       "    }\n",
       "\n",
       "    .dataframe thead th {\n",
       "        text-align: right;\n",
       "    }\n",
       "</style>\n",
       "<table border=\"1\" class=\"dataframe\">\n",
       "  <thead>\n",
       "    <tr style=\"text-align: right;\">\n",
       "      <th></th>\n",
       "      <th>Sales</th>\n",
       "    </tr>\n",
       "    <tr>\n",
       "      <th>Segment_Category</th>\n",
       "      <th></th>\n",
       "    </tr>\n",
       "  </thead>\n",
       "  <tbody>\n",
       "    <tr>\n",
       "      <th>Quick Service &amp; Burger</th>\n",
       "      <td>79384</td>\n",
       "    </tr>\n",
       "    <tr>\n",
       "      <th>Quick Service &amp; Coffee Cafe</th>\n",
       "      <td>31889</td>\n",
       "    </tr>\n",
       "    <tr>\n",
       "      <th>Quick Service &amp; Chicken</th>\n",
       "      <td>22619</td>\n",
       "    </tr>\n",
       "    <tr>\n",
       "      <th>Quick Service &amp; Pizza</th>\n",
       "      <td>21316</td>\n",
       "    </tr>\n",
       "    <tr>\n",
       "      <th>Casual Dining &amp; Varied Menu</th>\n",
       "      <td>15686</td>\n",
       "    </tr>\n",
       "    <tr>\n",
       "      <th>Quick Service &amp; Sandwich</th>\n",
       "      <td>14965</td>\n",
       "    </tr>\n",
       "    <tr>\n",
       "      <th>Quick Service &amp; Mexican</th>\n",
       "      <td>12143</td>\n",
       "    </tr>\n",
       "    <tr>\n",
       "      <th>Family Dining &amp; Family Style</th>\n",
       "      <td>11677</td>\n",
       "    </tr>\n",
       "    <tr>\n",
       "      <th>Casual Dining &amp; Steak</th>\n",
       "      <td>8014</td>\n",
       "    </tr>\n",
       "    <tr>\n",
       "      <th>Fast Casual &amp; Mexican</th>\n",
       "      <td>7159</td>\n",
       "    </tr>\n",
       "  </tbody>\n",
       "</table>\n",
       "</div>"
      ],
      "text/plain": [
       "                              Sales\n",
       "Segment_Category                   \n",
       "Quick Service & Burger        79384\n",
       "Quick Service & Coffee Cafe   31889\n",
       "Quick Service & Chicken       22619\n",
       "Quick Service & Pizza         21316\n",
       "Casual Dining & Varied Menu   15686\n",
       "Quick Service & Sandwich      14965\n",
       "Quick Service & Mexican       12143\n",
       "Family Dining & Family Style  11677\n",
       "Casual Dining & Steak          8014\n",
       "Fast Casual & Mexican          7159"
      ]
     },
     "execution_count": 15,
     "metadata": {},
     "output_type": "execute_result"
    }
   ],
   "source": [
    "sales_by_segment_categ = resto_cleaned.groupby('Segment_Category')[\"Sales\"].sum().to_frame().sort_values(by=\"Sales\", ascending=False)\n",
    "sales_by_segment_categ.head(10) "
   ]
  },
  {
   "cell_type": "code",
   "execution_count": 16,
   "id": "emotional-roller",
   "metadata": {},
   "outputs": [
    {
     "data": {
      "text/plain": [
       "Text(0.5, 0, 'Sales')"
      ]
     },
     "execution_count": 16,
     "metadata": {},
     "output_type": "execute_result"
    },
    {
     "data": {
      "image/png": "[encoded data removed]",
      "text/plain": [
       "<Figure size 648x432 with 1 Axes>"
      ]
     },
     "metadata": {
      "needs_background": "light"
     },
     "output_type": "display_data"
    }
   ],
   "source": [
    "viz_sales = sales_by_segment_categ.head(10).reset_index()\n",
    "ax = viz_sales.plot.barh(figsize=(9,6), x=\"Segment_Category\", y=\"Sales\")\n",
    "ax.set_title(\"Top 10 segment categories with highest sales\")\n",
    "ax.set_ylabel(\"Segment Category\")\n",
    "ax.set_xlabel(\"Sales\")"
   ]
  },
  {
   "cell_type": "markdown",
   "id": "rough-stranger",
   "metadata": {},
   "source": [
    "Split Segment_Category into category and add column Category"
   ]
  },
  {
   "cell_type": "code",
   "execution_count": 17,
   "id": "regulated-employer",
   "metadata": {},
   "outputs": [],
   "source": [
    "split_categ = resto_cleaned['Segment_Category'].str.split(\"&\", n = -1, expand = True)\n",
    "resto_cleaned['Category'] = split_categ[0]"
   ]
  },
  {
   "cell_type": "code",
   "execution_count": 18,
   "id": "artificial-radical",
   "metadata": {},
   "outputs": [
    {
     "data": {
      "text/html": [
       "<div>\n",
       "<style scoped>\n",
       "    .dataframe tbody tr th:only-of-type {\n",
       "        vertical-align: middle;\n",
       "    }\n",
       "\n",
       "    .dataframe tbody tr th {\n",
       "        vertical-align: top;\n",
       "    }\n",
       "\n",
       "    .dataframe thead th {\n",
       "        text-align: right;\n",
       "    }\n",
       "</style>\n",
       "<table border=\"1\" class=\"dataframe\">\n",
       "  <thead>\n",
       "    <tr style=\"text-align: right;\">\n",
       "      <th></th>\n",
       "      <th>Sales</th>\n",
       "    </tr>\n",
       "    <tr>\n",
       "      <th>Category</th>\n",
       "      <th></th>\n",
       "    </tr>\n",
       "  </thead>\n",
       "  <tbody>\n",
       "    <tr>\n",
       "      <th>Quick Service</th>\n",
       "      <td>192513</td>\n",
       "    </tr>\n",
       "    <tr>\n",
       "      <th>Casual Dining</th>\n",
       "      <td>38689</td>\n",
       "    </tr>\n",
       "    <tr>\n",
       "      <th>Fast Casual</th>\n",
       "      <td>32699</td>\n",
       "    </tr>\n",
       "    <tr>\n",
       "      <th>Family Dining</th>\n",
       "      <td>11677</td>\n",
       "    </tr>\n",
       "    <tr>\n",
       "      <th>Varied Menu</th>\n",
       "      <td>4610</td>\n",
       "    </tr>\n",
       "    <tr>\n",
       "      <th>Mexican</th>\n",
       "      <td>3396</td>\n",
       "    </tr>\n",
       "    <tr>\n",
       "      <th>Steak</th>\n",
       "      <td>2989</td>\n",
       "    </tr>\n",
       "    <tr>\n",
       "      <th>Pizza</th>\n",
       "      <td>2585</td>\n",
       "    </tr>\n",
       "    <tr>\n",
       "      <th>Family Style</th>\n",
       "      <td>2292</td>\n",
       "    </tr>\n",
       "    <tr>\n",
       "      <th>Burger</th>\n",
       "      <td>2187</td>\n",
       "    </tr>\n",
       "  </tbody>\n",
       "</table>\n",
       "</div>"
      ],
      "text/plain": [
       "                 Sales\n",
       "Category              \n",
       "Quick Service   192513\n",
       "Casual Dining    38689\n",
       "Fast Casual      32699\n",
       "Family Dining    11677\n",
       "Varied Menu       4610\n",
       "Mexican           3396\n",
       "Steak             2989\n",
       "Pizza             2585\n",
       "Family Style      2292\n",
       "Burger            2187"
      ]
     },
     "execution_count": 18,
     "metadata": {},
     "output_type": "execute_result"
    }
   ],
   "source": [
    "sales_by_categ = resto_cleaned.groupby('Category')[\"Sales\"].sum().to_frame().sort_values(by='Sales', ascending=False)\n",
    "sales_by_categ.head(10)"
   ]
  },
  {
   "cell_type": "code",
   "execution_count": 19,
   "id": "loving-mongolia",
   "metadata": {},
   "outputs": [
    {
     "data": {
      "text/plain": [
       "Text(0.5, 0, 'Sales')"
      ]
     },
     "execution_count": 19,
     "metadata": {},
     "output_type": "execute_result"
    },
    {
     "data": {
      "image/png": "[encoded data removed]",
      "text/plain": [
       "<Figure size 648x432 with 1 Axes>"
      ]
     },
     "metadata": {
      "needs_background": "light"
     },
     "output_type": "display_data"
    }
   ],
   "source": [
    "viz_sales_categ = sales_by_categ.head(10).reset_index()\n",
    "ax = viz_sales_categ.plot.barh(figsize=(9,6), x=\"Category\", y=\"Sales\")\n",
    "ax.set_title(\"Top 10 categories with highest sales\")\n",
    "ax.set_ylabel(\"Category\")\n",
    "ax.set_xlabel(\"Sales\")"
   ]
  },
  {
   "cell_type": "code",
   "execution_count": 20,
   "id": "expanded-subject",
   "metadata": {},
   "outputs": [
    {
     "data": {
      "text/html": [
       "<div>\n",
       "<style scoped>\n",
       "    .dataframe tbody tr th:only-of-type {\n",
       "        vertical-align: middle;\n",
       "    }\n",
       "\n",
       "    .dataframe tbody tr th {\n",
       "        vertical-align: top;\n",
       "    }\n",
       "\n",
       "    .dataframe thead th {\n",
       "        text-align: right;\n",
       "    }\n",
       "</style>\n",
       "<table border=\"1\" class=\"dataframe\">\n",
       "  <thead>\n",
       "    <tr style=\"text-align: right;\">\n",
       "      <th></th>\n",
       "      <th>Units</th>\n",
       "    </tr>\n",
       "    <tr>\n",
       "      <th>Segment_Category</th>\n",
       "      <th></th>\n",
       "    </tr>\n",
       "  </thead>\n",
       "  <tbody>\n",
       "    <tr>\n",
       "      <th>Quick Service &amp; Burger</th>\n",
       "      <td>39172</td>\n",
       "    </tr>\n",
       "    <tr>\n",
       "      <th>Quick Service &amp; Sandwich</th>\n",
       "      <td>28171</td>\n",
       "    </tr>\n",
       "    <tr>\n",
       "      <th>Quick Service &amp; Coffee Cafe</th>\n",
       "      <td>25763</td>\n",
       "    </tr>\n",
       "    <tr>\n",
       "      <th>Quick Service &amp; Pizza</th>\n",
       "      <td>24027</td>\n",
       "    </tr>\n",
       "    <tr>\n",
       "      <th>Quick Service &amp; Chicken</th>\n",
       "      <td>11271</td>\n",
       "    </tr>\n",
       "    <tr>\n",
       "      <th>Quick Service &amp; Mexican</th>\n",
       "      <td>7362</td>\n",
       "    </tr>\n",
       "    <tr>\n",
       "      <th>Family Dining &amp; Family Style</th>\n",
       "      <td>7047</td>\n",
       "    </tr>\n",
       "    <tr>\n",
       "      <th>Quick Service &amp; Frozen Desserts</th>\n",
       "      <td>6905</td>\n",
       "    </tr>\n",
       "    <tr>\n",
       "      <th>Fast Casual &amp; Sandwich</th>\n",
       "      <td>6414</td>\n",
       "    </tr>\n",
       "    <tr>\n",
       "      <th>Casual Dining &amp; Varied Menu</th>\n",
       "      <td>4967</td>\n",
       "    </tr>\n",
       "  </tbody>\n",
       "</table>\n",
       "</div>"
      ],
      "text/plain": [
       "                                 Units\n",
       "Segment_Category                      \n",
       "Quick Service & Burger           39172\n",
       "Quick Service & Sandwich         28171\n",
       "Quick Service & Coffee Cafe      25763\n",
       "Quick Service & Pizza            24027\n",
       "Quick Service & Chicken          11271\n",
       "Quick Service & Mexican           7362\n",
       "Family Dining & Family Style      7047\n",
       "Quick Service & Frozen Desserts   6905\n",
       "Fast Casual & Sandwich            6414\n",
       "Casual Dining & Varied Menu       4967"
      ]
     },
     "execution_count": 20,
     "metadata": {},
     "output_type": "execute_result"
    }
   ],
   "source": [
    "units_categ = resto_cleaned.groupby('Segment_Category')[\"Units\"].sum().to_frame().sort_values(by='Units', ascending=False) \n",
    "units_categ.head(10)"
   ]
  },
  {
   "cell_type": "code",
   "execution_count": 21,
   "id": "vertical-dubai",
   "metadata": {},
   "outputs": [
    {
     "data": {
      "text/plain": [
       "Text(0.5, 0, 'Units')"
      ]
     },
     "execution_count": 21,
     "metadata": {},
     "output_type": "execute_result"
    },
    {
     "data": {
      "image/png": "[encoded data removed]",
      "text/plain": [
       "<Figure size 648x432 with 1 Axes>"
      ]
     },
     "metadata": {
      "needs_background": "light"
     },
     "output_type": "display_data"
    }
   ],
   "source": [
    "viz_units_categ = units_categ.head(10).reset_index()\n",
    "ax = viz_units_categ.plot.barh(figsize=(9,6), x=\"Segment_Category\", y=\"Units\")\n",
    "ax.set_title(\"Top 10 segment categories with highest units\")\n",
    "ax.set_ylabel(\"Segment Category\")\n",
    "ax.set_xlabel(\"Units\")"
   ]
  },
  {
   "cell_type": "code",
   "execution_count": 22,
   "id": "hired-artist",
   "metadata": {},
   "outputs": [
    {
     "data": {
      "text/plain": [
       "Text(0.5, 1.0, 'Correlation between total units and sales (excluding the top 5 total units)')"
      ]
     },
     "execution_count": 22,
     "metadata": {},
     "output_type": "execute_result"
    },
    {
     "data": {
      "image/png": "[encoded data removed]",
      "text/plain": [
       "<Figure size 648x432 with 1 Axes>"
      ]
     },
     "metadata": {
      "needs_background": "light"
     },
     "output_type": "display_data"
    }
   ],
   "source": [
    "units_sales = units_categ.join(sales_by_segment_categ)\n",
    "units_sales.reset_index()\n",
    "sales_correl = units_sales[5:].plot(kind=\"scatter\", x='Sales', y='Units', figsize=(9,6))\n",
    "sales_correl.set_title(\"Correlation between total units and sales (excluding the top 5 total units)\")"
   ]
  },
  {
   "cell_type": "code",
   "execution_count": 23,
   "id": "rural-bennett",
   "metadata": {},
   "outputs": [
    {
     "data": {
      "text/html": [
       "<div>\n",
       "<style scoped>\n",
       "    .dataframe tbody tr th:only-of-type {\n",
       "        vertical-align: middle;\n",
       "    }\n",
       "\n",
       "    .dataframe tbody tr th {\n",
       "        vertical-align: top;\n",
       "    }\n",
       "\n",
       "    .dataframe thead th {\n",
       "        text-align: right;\n",
       "    }\n",
       "</style>\n",
       "<table border=\"1\" class=\"dataframe\">\n",
       "  <thead>\n",
       "    <tr style=\"text-align: right;\">\n",
       "      <th></th>\n",
       "      <th>YOY_Sales in (%)</th>\n",
       "    </tr>\n",
       "    <tr>\n",
       "      <th>Segment_Category</th>\n",
       "      <th></th>\n",
       "    </tr>\n",
       "  </thead>\n",
       "  <tbody>\n",
       "    <tr>\n",
       "      <th>Fast Casual &amp; Burger</th>\n",
       "      <td>66.6</td>\n",
       "    </tr>\n",
       "    <tr>\n",
       "      <th>Steak</th>\n",
       "      <td>60.3</td>\n",
       "    </tr>\n",
       "    <tr>\n",
       "      <th>Mexican</th>\n",
       "      <td>58.1</td>\n",
       "    </tr>\n",
       "    <tr>\n",
       "      <th>Chicken</th>\n",
       "      <td>52.6</td>\n",
       "    </tr>\n",
       "    <tr>\n",
       "      <th>Fast Casual &amp; Chicken</th>\n",
       "      <td>38.9</td>\n",
       "    </tr>\n",
       "    <tr>\n",
       "      <th>Fast Casual &amp; Sandwich</th>\n",
       "      <td>38.0</td>\n",
       "    </tr>\n",
       "    <tr>\n",
       "      <th>Sports Bar</th>\n",
       "      <td>35.3</td>\n",
       "    </tr>\n",
       "    <tr>\n",
       "      <th>Quick Service &amp; Chicken</th>\n",
       "      <td>34.3</td>\n",
       "    </tr>\n",
       "    <tr>\n",
       "      <th>Quick Service &amp; Beverage</th>\n",
       "      <td>33.8</td>\n",
       "    </tr>\n",
       "    <tr>\n",
       "      <th>Pizza</th>\n",
       "      <td>31.6</td>\n",
       "    </tr>\n",
       "  </tbody>\n",
       "</table>\n",
       "</div>"
      ],
      "text/plain": [
       "                          YOY_Sales in (%)\n",
       "Segment_Category                          \n",
       "Fast Casual & Burger                  66.6\n",
       "Steak                                 60.3\n",
       "Mexican                               58.1\n",
       "Chicken                               52.6\n",
       "Fast Casual & Chicken                 38.9\n",
       "Fast Casual & Sandwich                38.0\n",
       "Sports Bar                            35.3\n",
       "Quick Service & Chicken               34.3\n",
       "Quick Service & Beverage              33.8\n",
       "Pizza                                 31.6"
      ]
     },
     "execution_count": 23,
     "metadata": {},
     "output_type": "execute_result"
    }
   ],
   "source": [
    "yoy_sales_segment_categ = resto_cleaned.groupby('Segment_Category')[\"YOY_Sales in (%)\"].sum().to_frame().sort_values(by=\"YOY_Sales in (%)\", ascending=False)\n",
    "yoy_sales_segment_categ.head(10) "
   ]
  },
  {
   "cell_type": "code",
   "execution_count": 24,
   "id": "educational-breakfast",
   "metadata": {},
   "outputs": [
    {
     "data": {
      "text/plain": [
       "Text(0.5, 0, 'YOY Sales in %')"
      ]
     },
     "execution_count": 24,
     "metadata": {},
     "output_type": "execute_result"
    },
    {
     "data": {
      "image/png": "[encoded data removed]",
      "text/plain": [
       "<Figure size 1152x1152 with 1 Axes>"
      ]
     },
     "metadata": {
      "needs_background": "light"
     },
     "output_type": "display_data"
    }
   ],
   "source": [
    "# yoy_sales_segment_categ.reset_index()\n",
    "yoy_sales_segment_categ['positive'] = yoy_sales_segment_categ > 0\n",
    "viz_yoy_sales_segment = yoy_sales_segment_categ.reset_index()\n",
    "ax = viz_yoy_sales_segment.plot.barh(figsize=(16,16), x=\"Segment_Category\", y=\"YOY_Sales in (%)\", color=yoy_sales_segment_categ['positive'].map({True:'g', False:'r'}))\n",
    "ax.set_title(\"Top 10 POSITIVE YOY Sales per Segment Category\")\n",
    "ax.set_ylabel(\"Segment Category\")\n",
    "ax.set_xlabel(\"YOY Sales in %\")"
   ]
  },
  {
   "cell_type": "code",
   "execution_count": 25,
   "id": "executive-ethernet",
   "metadata": {},
   "outputs": [
    {
     "data": {
      "text/html": [
       "<div>\n",
       "<style scoped>\n",
       "    .dataframe tbody tr th:only-of-type {\n",
       "        vertical-align: middle;\n",
       "    }\n",
       "\n",
       "    .dataframe tbody tr th {\n",
       "        vertical-align: top;\n",
       "    }\n",
       "\n",
       "    .dataframe thead th {\n",
       "        text-align: right;\n",
       "    }\n",
       "</style>\n",
       "<table border=\"1\" class=\"dataframe\">\n",
       "  <thead>\n",
       "    <tr style=\"text-align: right;\">\n",
       "      <th></th>\n",
       "      <th>Sales</th>\n",
       "    </tr>\n",
       "    <tr>\n",
       "      <th>Restaurant</th>\n",
       "      <th></th>\n",
       "    </tr>\n",
       "  </thead>\n",
       "  <tbody>\n",
       "    <tr>\n",
       "      <th>McDonald's</th>\n",
       "      <td>40412</td>\n",
       "    </tr>\n",
       "    <tr>\n",
       "      <th>Starbucks</th>\n",
       "      <td>21380</td>\n",
       "    </tr>\n",
       "    <tr>\n",
       "      <th>Chick-fil-A</th>\n",
       "      <td>11320</td>\n",
       "    </tr>\n",
       "    <tr>\n",
       "      <th>Taco Bell</th>\n",
       "      <td>11293</td>\n",
       "    </tr>\n",
       "    <tr>\n",
       "      <th>Burger King</th>\n",
       "      <td>10204</td>\n",
       "    </tr>\n",
       "    <tr>\n",
       "      <th>Subway</th>\n",
       "      <td>10200</td>\n",
       "    </tr>\n",
       "    <tr>\n",
       "      <th>Wendy's</th>\n",
       "      <td>9762</td>\n",
       "    </tr>\n",
       "    <tr>\n",
       "      <th>Dunkin'</th>\n",
       "      <td>9228</td>\n",
       "    </tr>\n",
       "    <tr>\n",
       "      <th>Domino's</th>\n",
       "      <td>7044</td>\n",
       "    </tr>\n",
       "    <tr>\n",
       "      <th>Panera Bread</th>\n",
       "      <td>5890</td>\n",
       "    </tr>\n",
       "  </tbody>\n",
       "</table>\n",
       "</div>"
      ],
      "text/plain": [
       "              Sales\n",
       "Restaurant         \n",
       "McDonald's    40412\n",
       "Starbucks     21380\n",
       "Chick-fil-A   11320\n",
       "Taco Bell     11293\n",
       "Burger King   10204\n",
       "Subway        10200\n",
       "Wendy's        9762\n",
       "Dunkin'        9228\n",
       "Domino's       7044\n",
       "Panera Bread   5890"
      ]
     },
     "execution_count": 25,
     "metadata": {},
     "output_type": "execute_result"
    }
   ],
   "source": [
    "top_resto = resto_cleaned.groupby(\"Restaurant\")[\"Sales\"].sum().to_frame().sort_values('Sales', ascending=False)\n",
    "top_resto.head(10)"
   ]
  },
  {
   "cell_type": "code",
   "execution_count": 26,
   "id": "aggressive-programming",
   "metadata": {},
   "outputs": [
    {
     "data": {
      "text/plain": [
       "Text(0.5, 0, 'Sales')"
      ]
     },
     "execution_count": 26,
     "metadata": {},
     "output_type": "execute_result"
    },
    {
     "data": {
      "image/png": "[encoded data removed]",
      "text/plain": [
       "<Figure size 648x432 with 1 Axes>"
      ]
     },
     "metadata": {
      "needs_background": "light"
     },
     "output_type": "display_data"
    }
   ],
   "source": [
    "viz_sales_resto = top_resto.head(10).reset_index()\n",
    "ax = viz_sales_resto.plot.barh(figsize=(9,6), x=\"Restaurant\", y=\"Sales\")\n",
    "ax.set_title(\"Top 10 sales per restaurant\")\n",
    "ax.set_ylabel(\"Restaurant\")\n",
    "ax.set_xlabel(\"Sales\")"
   ]
  },
  {
   "cell_type": "code",
   "execution_count": 27,
   "id": "mature-median",
   "metadata": {},
   "outputs": [
    {
     "data": {
      "text/html": [
       "<div>\n",
       "<style scoped>\n",
       "    .dataframe tbody tr th:only-of-type {\n",
       "        vertical-align: middle;\n",
       "    }\n",
       "\n",
       "    .dataframe tbody tr th {\n",
       "        vertical-align: top;\n",
       "    }\n",
       "\n",
       "    .dataframe thead th {\n",
       "        text-align: right;\n",
       "    }\n",
       "</style>\n",
       "<table border=\"1\" class=\"dataframe\">\n",
       "  <thead>\n",
       "    <tr style=\"text-align: right;\">\n",
       "      <th></th>\n",
       "      <th>YOY_Sales in (%)</th>\n",
       "    </tr>\n",
       "    <tr>\n",
       "      <th>Restaurant</th>\n",
       "      <th></th>\n",
       "    </tr>\n",
       "  </thead>\n",
       "  <tbody>\n",
       "    <tr>\n",
       "      <th>Chicken Salad Chick</th>\n",
       "      <td>39.5</td>\n",
       "    </tr>\n",
       "    <tr>\n",
       "      <th>Metro Diner</th>\n",
       "      <td>36.3</td>\n",
       "    </tr>\n",
       "    <tr>\n",
       "      <th>First Watch</th>\n",
       "      <td>35.1</td>\n",
       "    </tr>\n",
       "    <tr>\n",
       "      <th>Shake Shack</th>\n",
       "      <td>31.8</td>\n",
       "    </tr>\n",
       "    <tr>\n",
       "      <th>Walk-On's Sports Bistreaux</th>\n",
       "      <td>27.8</td>\n",
       "    </tr>\n",
       "    <tr>\n",
       "      <th>...</th>\n",
       "      <td>...</td>\n",
       "    </tr>\n",
       "    <tr>\n",
       "      <th>Friendly's</th>\n",
       "      <td>-15.3</td>\n",
       "    </tr>\n",
       "    <tr>\n",
       "      <th>McCormick &amp; Schmick's</th>\n",
       "      <td>-15.6</td>\n",
       "    </tr>\n",
       "    <tr>\n",
       "      <th>Fuddruckers</th>\n",
       "      <td>-15.8</td>\n",
       "    </tr>\n",
       "    <tr>\n",
       "      <th>Old Country Buffet/HomeTown Buffet</th>\n",
       "      <td>-18.8</td>\n",
       "    </tr>\n",
       "    <tr>\n",
       "      <th>Houlihan's</th>\n",
       "      <td>-21.2</td>\n",
       "    </tr>\n",
       "  </tbody>\n",
       "</table>\n",
       "<p>250 rows × 1 columns</p>\n",
       "</div>"
      ],
      "text/plain": [
       "                                    YOY_Sales in (%)\n",
       "Restaurant                                          \n",
       "Chicken Salad Chick                             39.5\n",
       "Metro Diner                                     36.3\n",
       "First Watch                                     35.1\n",
       "Shake Shack                                     31.8\n",
       "Walk-On's Sports Bistreaux                      27.8\n",
       "...                                              ...\n",
       "Friendly's                                     -15.3\n",
       "McCormick & Schmick's                          -15.6\n",
       "Fuddruckers                                    -15.8\n",
       "Old Country Buffet/HomeTown Buffet             -18.8\n",
       "Houlihan's                                     -21.2\n",
       "\n",
       "[250 rows x 1 columns]"
      ]
     },
     "execution_count": 27,
     "metadata": {},
     "output_type": "execute_result"
    }
   ],
   "source": [
    "yoy_sales_resto = resto_cleaned.groupby(\"Restaurant\")[\"YOY_Sales in (%)\"].sum().to_frame().sort_values('YOY_Sales in (%)', ascending=False)\n",
    "yoy_sales_resto"
   ]
  },
  {
   "cell_type": "code",
   "execution_count": 28,
   "id": "alert-seafood",
   "metadata": {},
   "outputs": [
    {
     "data": {
      "text/plain": [
       "Text(0.5, 0, 'YOY Sales in %')"
      ]
     },
     "execution_count": 28,
     "metadata": {},
     "output_type": "execute_result"
    },
    {
     "data": {
      "image/png": "[encoded data removed]",
      "text/plain": [
       "<Figure size 648x432 with 1 Axes>"
      ]
     },
     "metadata": {
      "needs_background": "light"
     },
     "output_type": "display_data"
    }
   ],
   "source": [
    "yoy_positive = yoy_sales_resto.head(10)\n",
    "yoy_negative = yoy_sales_resto.tail(10)\n",
    "top_pos_neg = yoy_positive.append(yoy_negative)\n",
    "top_pos_neg.reset_index()\n",
    "top_pos_neg['positive'] = top_pos_neg > 0\n",
    "viz_yoy_resto = top_pos_neg.reset_index()\n",
    "ax = viz_yoy_resto.plot.barh(figsize=(9,6), x=\"Restaurant\", y=\"YOY_Sales in (%)\", color=top_pos_neg['positive'].map({True:'g', False:'r'}))\n",
    "ax.set_title(\"YOY Sales per restaurant\")\n",
    "ax.set_ylabel(\"Restaurant\")\n",
    "ax.set_xlabel(\"YOY Sales in %\")"
   ]
  }
 ],
 "metadata": {
  "kernelspec": {
   "display_name": "Python 3",
   "language": "python",
   "name": "python3"
  },
  "language_info": {
   "codemirror_mode": {
    "name": "ipython",
    "version": 3
   },
   "file_extension": ".py",
   "mimetype": "text/x-python",
   "name": "python",
   "nbconvert_exporter": "python",
   "pygments_lexer": "ipython3",
   "version": "3.9.2"
  }
 },
 "nbformat": 4,
 "nbformat_minor": 5
}
