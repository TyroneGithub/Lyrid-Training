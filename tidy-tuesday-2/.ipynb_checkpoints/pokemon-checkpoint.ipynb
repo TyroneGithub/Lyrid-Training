{
 "cells": [
  {
   "cell_type": "markdown",
   "id": "indie-quick",
   "metadata": {},
   "source": [
    "# Column Labels\n",
    "    #: ID for each pokemon\n",
    "    Name: Name of each pokemon\n",
    "    Type 1: Each pokemon has a type, this determines weakness/resistance to attacks\n",
    "    Type 2: Some pokemon are dual type and have 2\n",
    "    Total: sum of all stats that come after this, a general guide to how strong a pokemon is\n",
    "    HP: hit points, or health, defines how much damage a pokemon can withstand before fainting\n",
    "    Attack: the base modifier for normal attacks (eg. Scratch, Punch)\n",
    "    Defense: the base damage resistance against normal attacks\n",
    "    SP Atk: special attack, the base modifier for special attacks (e.g. fire blast, bubble beam)\n",
    "    SP Def: the base damage resistance against special attacks\n",
    "    Speed: determines which pokemon attacks first each round"
   ]
  },
  {
   "cell_type": "code",
   "execution_count": 1,
   "id": "presidential-national",
   "metadata": {},
   "outputs": [],
   "source": [
    "import os\n",
    "\n",
    "import numpy as np\n",
    "import pandas as pd\n",
    "import matplotlib.pyplot as plt"
   ]
  },
  {
   "cell_type": "code",
   "execution_count": 2,
   "id": "rising-prefix",
   "metadata": {},
   "outputs": [],
   "source": [
    "pokemon = pd.read_csv('Pokemon.csv')"
   ]
  },
  {
   "cell_type": "code",
   "execution_count": 3,
   "id": "sound-notification",
   "metadata": {},
   "outputs": [
    {
     "data": {
      "text/html": [
       "<div>\n",
       "<style scoped>\n",
       "    .dataframe tbody tr th:only-of-type {\n",
       "        vertical-align: middle;\n",
       "    }\n",
       "\n",
       "    .dataframe tbody tr th {\n",
       "        vertical-align: top;\n",
       "    }\n",
       "\n",
       "    .dataframe thead th {\n",
       "        text-align: right;\n",
       "    }\n",
       "</style>\n",
       "<table border=\"1\" class=\"dataframe\">\n",
       "  <thead>\n",
       "    <tr style=\"text-align: right;\">\n",
       "      <th></th>\n",
       "      <th>#</th>\n",
       "      <th>Name</th>\n",
       "      <th>Type 1</th>\n",
       "      <th>Type 2</th>\n",
       "      <th>Total</th>\n",
       "      <th>HP</th>\n",
       "      <th>Attack</th>\n",
       "      <th>Defense</th>\n",
       "      <th>Sp. Atk</th>\n",
       "      <th>Sp. Def</th>\n",
       "      <th>Speed</th>\n",
       "      <th>Generation</th>\n",
       "      <th>Legendary</th>\n",
       "    </tr>\n",
       "  </thead>\n",
       "  <tbody>\n",
       "    <tr>\n",
       "      <th>0</th>\n",
       "      <td>1</td>\n",
       "      <td>Bulbasaur</td>\n",
       "      <td>Grass</td>\n",
       "      <td>Poison</td>\n",
       "      <td>318</td>\n",
       "      <td>45</td>\n",
       "      <td>49</td>\n",
       "      <td>49</td>\n",
       "      <td>65</td>\n",
       "      <td>65</td>\n",
       "      <td>45</td>\n",
       "      <td>1</td>\n",
       "      <td>False</td>\n",
       "    </tr>\n",
       "    <tr>\n",
       "      <th>1</th>\n",
       "      <td>2</td>\n",
       "      <td>Ivysaur</td>\n",
       "      <td>Grass</td>\n",
       "      <td>Poison</td>\n",
       "      <td>405</td>\n",
       "      <td>60</td>\n",
       "      <td>62</td>\n",
       "      <td>63</td>\n",
       "      <td>80</td>\n",
       "      <td>80</td>\n",
       "      <td>60</td>\n",
       "      <td>1</td>\n",
       "      <td>False</td>\n",
       "    </tr>\n",
       "    <tr>\n",
       "      <th>2</th>\n",
       "      <td>3</td>\n",
       "      <td>Venusaur</td>\n",
       "      <td>Grass</td>\n",
       "      <td>Poison</td>\n",
       "      <td>525</td>\n",
       "      <td>80</td>\n",
       "      <td>82</td>\n",
       "      <td>83</td>\n",
       "      <td>100</td>\n",
       "      <td>100</td>\n",
       "      <td>80</td>\n",
       "      <td>1</td>\n",
       "      <td>False</td>\n",
       "    </tr>\n",
       "    <tr>\n",
       "      <th>3</th>\n",
       "      <td>3</td>\n",
       "      <td>VenusaurMega Venusaur</td>\n",
       "      <td>Grass</td>\n",
       "      <td>Poison</td>\n",
       "      <td>625</td>\n",
       "      <td>80</td>\n",
       "      <td>100</td>\n",
       "      <td>123</td>\n",
       "      <td>122</td>\n",
       "      <td>120</td>\n",
       "      <td>80</td>\n",
       "      <td>1</td>\n",
       "      <td>False</td>\n",
       "    </tr>\n",
       "    <tr>\n",
       "      <th>4</th>\n",
       "      <td>4</td>\n",
       "      <td>Charmander</td>\n",
       "      <td>Fire</td>\n",
       "      <td>NaN</td>\n",
       "      <td>309</td>\n",
       "      <td>39</td>\n",
       "      <td>52</td>\n",
       "      <td>43</td>\n",
       "      <td>60</td>\n",
       "      <td>50</td>\n",
       "      <td>65</td>\n",
       "      <td>1</td>\n",
       "      <td>False</td>\n",
       "    </tr>\n",
       "  </tbody>\n",
       "</table>\n",
       "</div>"
      ],
      "text/plain": [
       "   #                   Name Type 1  Type 2  Total  HP  Attack  Defense  \\\n",
       "0  1              Bulbasaur  Grass  Poison    318  45      49       49   \n",
       "1  2                Ivysaur  Grass  Poison    405  60      62       63   \n",
       "2  3               Venusaur  Grass  Poison    525  80      82       83   \n",
       "3  3  VenusaurMega Venusaur  Grass  Poison    625  80     100      123   \n",
       "4  4             Charmander   Fire     NaN    309  39      52       43   \n",
       "\n",
       "   Sp. Atk  Sp. Def  Speed  Generation  Legendary  \n",
       "0       65       65     45           1      False  \n",
       "1       80       80     60           1      False  \n",
       "2      100      100     80           1      False  \n",
       "3      122      120     80           1      False  \n",
       "4       60       50     65           1      False  "
      ]
     },
     "execution_count": 3,
     "metadata": {},
     "output_type": "execute_result"
    }
   ],
   "source": [
    "pokemon.head()"
   ]
  },
  {
   "cell_type": "code",
   "execution_count": 4,
   "id": "awful-necklace",
   "metadata": {},
   "outputs": [
    {
     "data": {
      "text/html": [
       "<div>\n",
       "<style scoped>\n",
       "    .dataframe tbody tr th:only-of-type {\n",
       "        vertical-align: middle;\n",
       "    }\n",
       "\n",
       "    .dataframe tbody tr th {\n",
       "        vertical-align: top;\n",
       "    }\n",
       "\n",
       "    .dataframe thead th {\n",
       "        text-align: right;\n",
       "    }\n",
       "</style>\n",
       "<table border=\"1\" class=\"dataframe\">\n",
       "  <thead>\n",
       "    <tr style=\"text-align: right;\">\n",
       "      <th></th>\n",
       "      <th>#</th>\n",
       "      <th>Name</th>\n",
       "      <th>Type 1</th>\n",
       "      <th>Type 2</th>\n",
       "      <th>Total</th>\n",
       "      <th>HP</th>\n",
       "      <th>Attack</th>\n",
       "      <th>Defense</th>\n",
       "      <th>Sp. Atk</th>\n",
       "      <th>Sp. Def</th>\n",
       "      <th>Speed</th>\n",
       "      <th>Generation</th>\n",
       "      <th>Legendary</th>\n",
       "    </tr>\n",
       "  </thead>\n",
       "  <tbody>\n",
       "    <tr>\n",
       "      <th>795</th>\n",
       "      <td>719</td>\n",
       "      <td>Diancie</td>\n",
       "      <td>Rock</td>\n",
       "      <td>Fairy</td>\n",
       "      <td>600</td>\n",
       "      <td>50</td>\n",
       "      <td>100</td>\n",
       "      <td>150</td>\n",
       "      <td>100</td>\n",
       "      <td>150</td>\n",
       "      <td>50</td>\n",
       "      <td>6</td>\n",
       "      <td>True</td>\n",
       "    </tr>\n",
       "    <tr>\n",
       "      <th>796</th>\n",
       "      <td>719</td>\n",
       "      <td>DiancieMega Diancie</td>\n",
       "      <td>Rock</td>\n",
       "      <td>Fairy</td>\n",
       "      <td>700</td>\n",
       "      <td>50</td>\n",
       "      <td>160</td>\n",
       "      <td>110</td>\n",
       "      <td>160</td>\n",
       "      <td>110</td>\n",
       "      <td>110</td>\n",
       "      <td>6</td>\n",
       "      <td>True</td>\n",
       "    </tr>\n",
       "    <tr>\n",
       "      <th>797</th>\n",
       "      <td>720</td>\n",
       "      <td>HoopaHoopa Confined</td>\n",
       "      <td>Psychic</td>\n",
       "      <td>Ghost</td>\n",
       "      <td>600</td>\n",
       "      <td>80</td>\n",
       "      <td>110</td>\n",
       "      <td>60</td>\n",
       "      <td>150</td>\n",
       "      <td>130</td>\n",
       "      <td>70</td>\n",
       "      <td>6</td>\n",
       "      <td>True</td>\n",
       "    </tr>\n",
       "    <tr>\n",
       "      <th>798</th>\n",
       "      <td>720</td>\n",
       "      <td>HoopaHoopa Unbound</td>\n",
       "      <td>Psychic</td>\n",
       "      <td>Dark</td>\n",
       "      <td>680</td>\n",
       "      <td>80</td>\n",
       "      <td>160</td>\n",
       "      <td>60</td>\n",
       "      <td>170</td>\n",
       "      <td>130</td>\n",
       "      <td>80</td>\n",
       "      <td>6</td>\n",
       "      <td>True</td>\n",
       "    </tr>\n",
       "    <tr>\n",
       "      <th>799</th>\n",
       "      <td>721</td>\n",
       "      <td>Volcanion</td>\n",
       "      <td>Fire</td>\n",
       "      <td>Water</td>\n",
       "      <td>600</td>\n",
       "      <td>80</td>\n",
       "      <td>110</td>\n",
       "      <td>120</td>\n",
       "      <td>130</td>\n",
       "      <td>90</td>\n",
       "      <td>70</td>\n",
       "      <td>6</td>\n",
       "      <td>True</td>\n",
       "    </tr>\n",
       "  </tbody>\n",
       "</table>\n",
       "</div>"
      ],
      "text/plain": [
       "       #                 Name   Type 1 Type 2  Total  HP  Attack  Defense  \\\n",
       "795  719              Diancie     Rock  Fairy    600  50     100      150   \n",
       "796  719  DiancieMega Diancie     Rock  Fairy    700  50     160      110   \n",
       "797  720  HoopaHoopa Confined  Psychic  Ghost    600  80     110       60   \n",
       "798  720   HoopaHoopa Unbound  Psychic   Dark    680  80     160       60   \n",
       "799  721            Volcanion     Fire  Water    600  80     110      120   \n",
       "\n",
       "     Sp. Atk  Sp. Def  Speed  Generation  Legendary  \n",
       "795      100      150     50           6       True  \n",
       "796      160      110    110           6       True  \n",
       "797      150      130     70           6       True  \n",
       "798      170      130     80           6       True  \n",
       "799      130       90     70           6       True  "
      ]
     },
     "execution_count": 4,
     "metadata": {},
     "output_type": "execute_result"
    }
   ],
   "source": [
    "pokemon.tail()"
   ]
  },
  {
   "cell_type": "code",
   "execution_count": 5,
   "id": "detailed-humor",
   "metadata": {},
   "outputs": [
    {
     "data": {
      "text/plain": [
       "(800, 13)"
      ]
     },
     "execution_count": 5,
     "metadata": {},
     "output_type": "execute_result"
    }
   ],
   "source": [
    "pokemon.shape"
   ]
  },
  {
   "cell_type": "code",
   "execution_count": 6,
   "id": "sensitive-saver",
   "metadata": {},
   "outputs": [
    {
     "data": {
      "text/plain": [
       "Index(['#', 'Name', 'Type 1', 'Type 2', 'Total', 'HP', 'Attack', 'Defense',\n",
       "       'Sp. Atk', 'Sp. Def', 'Speed', 'Generation', 'Legendary'],\n",
       "      dtype='object')"
      ]
     },
     "execution_count": 6,
     "metadata": {},
     "output_type": "execute_result"
    }
   ],
   "source": [
    "pokemon.columns"
   ]
  },
  {
   "cell_type": "code",
   "execution_count": 7,
   "id": "prepared-health",
   "metadata": {},
   "outputs": [
    {
     "data": {
      "text/plain": [
       "#             721\n",
       "Name          800\n",
       "Type 1         18\n",
       "Type 2         18\n",
       "Total         200\n",
       "HP             94\n",
       "Attack        111\n",
       "Defense       103\n",
       "Sp. Atk       105\n",
       "Sp. Def        92\n",
       "Speed         108\n",
       "Generation      6\n",
       "Legendary       2\n",
       "dtype: int64"
      ]
     },
     "execution_count": 7,
     "metadata": {},
     "output_type": "execute_result"
    }
   ],
   "source": [
    "pokemon.nunique()"
   ]
  },
  {
   "cell_type": "code",
   "execution_count": 8,
   "id": "signal-spirit",
   "metadata": {},
   "outputs": [
    {
     "data": {
      "text/html": [
       "<div>\n",
       "<style scoped>\n",
       "    .dataframe tbody tr th:only-of-type {\n",
       "        vertical-align: middle;\n",
       "    }\n",
       "\n",
       "    .dataframe tbody tr th {\n",
       "        vertical-align: top;\n",
       "    }\n",
       "\n",
       "    .dataframe thead th {\n",
       "        text-align: right;\n",
       "    }\n",
       "</style>\n",
       "<table border=\"1\" class=\"dataframe\">\n",
       "  <thead>\n",
       "    <tr style=\"text-align: right;\">\n",
       "      <th></th>\n",
       "      <th>#</th>\n",
       "      <th>Name</th>\n",
       "      <th>Type 1</th>\n",
       "      <th>Type 2</th>\n",
       "      <th>Total</th>\n",
       "      <th>HP</th>\n",
       "      <th>Attack</th>\n",
       "      <th>Defense</th>\n",
       "      <th>Sp. Atk</th>\n",
       "      <th>Sp. Def</th>\n",
       "      <th>Speed</th>\n",
       "      <th>Generation</th>\n",
       "      <th>Legendary</th>\n",
       "    </tr>\n",
       "  </thead>\n",
       "  <tbody>\n",
       "    <tr>\n",
       "      <th>0</th>\n",
       "      <td>False</td>\n",
       "      <td>False</td>\n",
       "      <td>False</td>\n",
       "      <td>False</td>\n",
       "      <td>False</td>\n",
       "      <td>False</td>\n",
       "      <td>False</td>\n",
       "      <td>False</td>\n",
       "      <td>False</td>\n",
       "      <td>False</td>\n",
       "      <td>False</td>\n",
       "      <td>False</td>\n",
       "      <td>False</td>\n",
       "    </tr>\n",
       "    <tr>\n",
       "      <th>1</th>\n",
       "      <td>False</td>\n",
       "      <td>False</td>\n",
       "      <td>False</td>\n",
       "      <td>False</td>\n",
       "      <td>False</td>\n",
       "      <td>False</td>\n",
       "      <td>False</td>\n",
       "      <td>False</td>\n",
       "      <td>False</td>\n",
       "      <td>False</td>\n",
       "      <td>False</td>\n",
       "      <td>False</td>\n",
       "      <td>False</td>\n",
       "    </tr>\n",
       "    <tr>\n",
       "      <th>2</th>\n",
       "      <td>False</td>\n",
       "      <td>False</td>\n",
       "      <td>False</td>\n",
       "      <td>False</td>\n",
       "      <td>False</td>\n",
       "      <td>False</td>\n",
       "      <td>False</td>\n",
       "      <td>False</td>\n",
       "      <td>False</td>\n",
       "      <td>False</td>\n",
       "      <td>False</td>\n",
       "      <td>False</td>\n",
       "      <td>False</td>\n",
       "    </tr>\n",
       "    <tr>\n",
       "      <th>3</th>\n",
       "      <td>False</td>\n",
       "      <td>False</td>\n",
       "      <td>False</td>\n",
       "      <td>False</td>\n",
       "      <td>False</td>\n",
       "      <td>False</td>\n",
       "      <td>False</td>\n",
       "      <td>False</td>\n",
       "      <td>False</td>\n",
       "      <td>False</td>\n",
       "      <td>False</td>\n",
       "      <td>False</td>\n",
       "      <td>False</td>\n",
       "    </tr>\n",
       "    <tr>\n",
       "      <th>4</th>\n",
       "      <td>False</td>\n",
       "      <td>False</td>\n",
       "      <td>False</td>\n",
       "      <td>True</td>\n",
       "      <td>False</td>\n",
       "      <td>False</td>\n",
       "      <td>False</td>\n",
       "      <td>False</td>\n",
       "      <td>False</td>\n",
       "      <td>False</td>\n",
       "      <td>False</td>\n",
       "      <td>False</td>\n",
       "      <td>False</td>\n",
       "    </tr>\n",
       "    <tr>\n",
       "      <th>...</th>\n",
       "      <td>...</td>\n",
       "      <td>...</td>\n",
       "      <td>...</td>\n",
       "      <td>...</td>\n",
       "      <td>...</td>\n",
       "      <td>...</td>\n",
       "      <td>...</td>\n",
       "      <td>...</td>\n",
       "      <td>...</td>\n",
       "      <td>...</td>\n",
       "      <td>...</td>\n",
       "      <td>...</td>\n",
       "      <td>...</td>\n",
       "    </tr>\n",
       "    <tr>\n",
       "      <th>795</th>\n",
       "      <td>False</td>\n",
       "      <td>False</td>\n",
       "      <td>False</td>\n",
       "      <td>False</td>\n",
       "      <td>False</td>\n",
       "      <td>False</td>\n",
       "      <td>False</td>\n",
       "      <td>False</td>\n",
       "      <td>False</td>\n",
       "      <td>False</td>\n",
       "      <td>False</td>\n",
       "      <td>False</td>\n",
       "      <td>False</td>\n",
       "    </tr>\n",
       "    <tr>\n",
       "      <th>796</th>\n",
       "      <td>False</td>\n",
       "      <td>False</td>\n",
       "      <td>False</td>\n",
       "      <td>False</td>\n",
       "      <td>False</td>\n",
       "      <td>False</td>\n",
       "      <td>False</td>\n",
       "      <td>False</td>\n",
       "      <td>False</td>\n",
       "      <td>False</td>\n",
       "      <td>False</td>\n",
       "      <td>False</td>\n",
       "      <td>False</td>\n",
       "    </tr>\n",
       "    <tr>\n",
       "      <th>797</th>\n",
       "      <td>False</td>\n",
       "      <td>False</td>\n",
       "      <td>False</td>\n",
       "      <td>False</td>\n",
       "      <td>False</td>\n",
       "      <td>False</td>\n",
       "      <td>False</td>\n",
       "      <td>False</td>\n",
       "      <td>False</td>\n",
       "      <td>False</td>\n",
       "      <td>False</td>\n",
       "      <td>False</td>\n",
       "      <td>False</td>\n",
       "    </tr>\n",
       "    <tr>\n",
       "      <th>798</th>\n",
       "      <td>False</td>\n",
       "      <td>False</td>\n",
       "      <td>False</td>\n",
       "      <td>False</td>\n",
       "      <td>False</td>\n",
       "      <td>False</td>\n",
       "      <td>False</td>\n",
       "      <td>False</td>\n",
       "      <td>False</td>\n",
       "      <td>False</td>\n",
       "      <td>False</td>\n",
       "      <td>False</td>\n",
       "      <td>False</td>\n",
       "    </tr>\n",
       "    <tr>\n",
       "      <th>799</th>\n",
       "      <td>False</td>\n",
       "      <td>False</td>\n",
       "      <td>False</td>\n",
       "      <td>False</td>\n",
       "      <td>False</td>\n",
       "      <td>False</td>\n",
       "      <td>False</td>\n",
       "      <td>False</td>\n",
       "      <td>False</td>\n",
       "      <td>False</td>\n",
       "      <td>False</td>\n",
       "      <td>False</td>\n",
       "      <td>False</td>\n",
       "    </tr>\n",
       "  </tbody>\n",
       "</table>\n",
       "<p>800 rows × 13 columns</p>\n",
       "</div>"
      ],
      "text/plain": [
       "         #   Name  Type 1  Type 2  Total     HP  Attack  Defense  Sp. Atk  \\\n",
       "0    False  False   False   False  False  False   False    False    False   \n",
       "1    False  False   False   False  False  False   False    False    False   \n",
       "2    False  False   False   False  False  False   False    False    False   \n",
       "3    False  False   False   False  False  False   False    False    False   \n",
       "4    False  False   False    True  False  False   False    False    False   \n",
       "..     ...    ...     ...     ...    ...    ...     ...      ...      ...   \n",
       "795  False  False   False   False  False  False   False    False    False   \n",
       "796  False  False   False   False  False  False   False    False    False   \n",
       "797  False  False   False   False  False  False   False    False    False   \n",
       "798  False  False   False   False  False  False   False    False    False   \n",
       "799  False  False   False   False  False  False   False    False    False   \n",
       "\n",
       "     Sp. Def  Speed  Generation  Legendary  \n",
       "0      False  False       False      False  \n",
       "1      False  False       False      False  \n",
       "2      False  False       False      False  \n",
       "3      False  False       False      False  \n",
       "4      False  False       False      False  \n",
       "..       ...    ...         ...        ...  \n",
       "795    False  False       False      False  \n",
       "796    False  False       False      False  \n",
       "797    False  False       False      False  \n",
       "798    False  False       False      False  \n",
       "799    False  False       False      False  \n",
       "\n",
       "[800 rows x 13 columns]"
      ]
     },
     "execution_count": 8,
     "metadata": {},
     "output_type": "execute_result"
    }
   ],
   "source": [
    "pokemon.isnull()"
   ]
  },
  {
   "cell_type": "code",
   "execution_count": null,
   "id": "combined-square",
   "metadata": {},
   "outputs": [],
   "source": []
  },
  {
   "cell_type": "code",
   "execution_count": null,
   "id": "local-vietnam",
   "metadata": {},
   "outputs": [],
   "source": []
  },
  {
   "cell_type": "markdown",
   "id": "previous-beaver",
   "metadata": {},
   "source": [
    "# DATA CLEANING"
   ]
  },
  {
   "cell_type": "markdown",
   "id": "adolescent-floating",
   "metadata": {},
   "source": [
    "Remove Mega Evolutions and Duplicate pokedex #\n"
   ]
  },
  {
   "cell_type": "code",
   "execution_count": 9,
   "id": "productive-suffering",
   "metadata": {},
   "outputs": [],
   "source": [
    "p_cleaned = pokemon.drop_duplicates(subset=\"#\")"
   ]
  },
  {
   "cell_type": "markdown",
   "id": "organic-turner",
   "metadata": {},
   "source": [
    "Replace all NaN values with None"
   ]
  },
  {
   "cell_type": "code",
   "execution_count": 23,
   "id": "right-mobility",
   "metadata": {},
   "outputs": [
    {
     "name": "stderr",
     "output_type": "stream",
     "text": [
      "<ipython-input-23-f51ef9991298>:1: SettingWithCopyWarning: \n",
      "A value is trying to be set on a copy of a slice from a DataFrame.\n",
      "Try using .loc[row_indexer,col_indexer] = value instead\n",
      "\n",
      "See the caveats in the documentation: https://pandas.pydata.org/pandas-docs/stable/user_guide/indexing.html#returning-a-view-versus-a-copy\n",
      "  p_cleaned['Type 2'] = p_cleaned['Type 2'].fillna('None')\n"
     ]
    }
   ],
   "source": [
    "p_cleaned['Type 2'] = p_cleaned['Type 2'].fillna('None')"
   ]
  },
  {
   "cell_type": "markdown",
   "id": "developed-victim",
   "metadata": {},
   "source": [
    "# Data Analaysis\n",
    "## Statistics"
   ]
  },
  {
   "cell_type": "markdown",
   "id": "secure-reliance",
   "metadata": {},
   "source": [
    "Mean stats for non-legendary pokemon"
   ]
  },
  {
   "cell_type": "code",
   "execution_count": 11,
   "id": "external-alexandria",
   "metadata": {},
   "outputs": [
    {
     "data": {
      "text/html": [
       "<div>\n",
       "<style scoped>\n",
       "    .dataframe tbody tr th:only-of-type {\n",
       "        vertical-align: middle;\n",
       "    }\n",
       "\n",
       "    .dataframe tbody tr th {\n",
       "        vertical-align: top;\n",
       "    }\n",
       "\n",
       "    .dataframe thead th {\n",
       "        text-align: right;\n",
       "    }\n",
       "</style>\n",
       "<table border=\"1\" class=\"dataframe\">\n",
       "  <thead>\n",
       "    <tr style=\"text-align: right;\">\n",
       "      <th></th>\n",
       "      <th>0</th>\n",
       "    </tr>\n",
       "  </thead>\n",
       "  <tbody>\n",
       "    <tr>\n",
       "      <th>#</th>\n",
       "      <td>353.663704</td>\n",
       "    </tr>\n",
       "    <tr>\n",
       "      <th>Total</th>\n",
       "      <td>404.161481</td>\n",
       "    </tr>\n",
       "    <tr>\n",
       "      <th>HP</th>\n",
       "      <td>66.634074</td>\n",
       "    </tr>\n",
       "    <tr>\n",
       "      <th>Attack</th>\n",
       "      <td>72.872593</td>\n",
       "    </tr>\n",
       "    <tr>\n",
       "      <th>Defense</th>\n",
       "      <td>68.562963</td>\n",
       "    </tr>\n",
       "    <tr>\n",
       "      <th>Sp. Atk</th>\n",
       "      <td>65.808889</td>\n",
       "    </tr>\n",
       "    <tr>\n",
       "      <th>Sp. Def</th>\n",
       "      <td>66.604444</td>\n",
       "    </tr>\n",
       "    <tr>\n",
       "      <th>Speed</th>\n",
       "      <td>63.678519</td>\n",
       "    </tr>\n",
       "    <tr>\n",
       "      <th>Generation</th>\n",
       "      <td>3.291852</td>\n",
       "    </tr>\n",
       "    <tr>\n",
       "      <th>Legendary</th>\n",
       "      <td>0.000000</td>\n",
       "    </tr>\n",
       "  </tbody>\n",
       "</table>\n",
       "</div>"
      ],
      "text/plain": [
       "                     0\n",
       "#           353.663704\n",
       "Total       404.161481\n",
       "HP           66.634074\n",
       "Attack       72.872593\n",
       "Defense      68.562963\n",
       "Sp. Atk      65.808889\n",
       "Sp. Def      66.604444\n",
       "Speed        63.678519\n",
       "Generation    3.291852\n",
       "Legendary     0.000000"
      ]
     },
     "execution_count": 11,
     "metadata": {},
     "output_type": "execute_result"
    }
   ],
   "source": [
    "p_cleaned.loc[p_cleaned['Legendary'] == False].mean().to_frame()"
   ]
  },
  {
   "cell_type": "markdown",
   "id": "digital-official",
   "metadata": {},
   "source": [
    "Mean stats for legendary pokemon"
   ]
  },
  {
   "cell_type": "code",
   "execution_count": 12,
   "id": "english-mumbai",
   "metadata": {},
   "outputs": [
    {
     "data": {
      "text/html": [
       "<div>\n",
       "<style scoped>\n",
       "    .dataframe tbody tr th:only-of-type {\n",
       "        vertical-align: middle;\n",
       "    }\n",
       "\n",
       "    .dataframe tbody tr th {\n",
       "        vertical-align: top;\n",
       "    }\n",
       "\n",
       "    .dataframe thead th {\n",
       "        text-align: right;\n",
       "    }\n",
       "</style>\n",
       "<table border=\"1\" class=\"dataframe\">\n",
       "  <thead>\n",
       "    <tr style=\"text-align: right;\">\n",
       "      <th></th>\n",
       "      <th>0</th>\n",
       "    </tr>\n",
       "  </thead>\n",
       "  <tbody>\n",
       "    <tr>\n",
       "      <th>#</th>\n",
       "      <td>468.652174</td>\n",
       "    </tr>\n",
       "    <tr>\n",
       "      <th>Total</th>\n",
       "      <td>620.217391</td>\n",
       "    </tr>\n",
       "    <tr>\n",
       "      <th>HP</th>\n",
       "      <td>94.000000</td>\n",
       "    </tr>\n",
       "    <tr>\n",
       "      <th>Attack</th>\n",
       "      <td>108.173913</td>\n",
       "    </tr>\n",
       "    <tr>\n",
       "      <th>Defense</th>\n",
       "      <td>102.021739</td>\n",
       "    </tr>\n",
       "    <tr>\n",
       "      <th>Sp. Atk</th>\n",
       "      <td>113.456522</td>\n",
       "    </tr>\n",
       "    <tr>\n",
       "      <th>Sp. Def</th>\n",
       "      <td>106.978261</td>\n",
       "    </tr>\n",
       "    <tr>\n",
       "      <th>Speed</th>\n",
       "      <td>95.586957</td>\n",
       "    </tr>\n",
       "    <tr>\n",
       "      <th>Generation</th>\n",
       "      <td>3.782609</td>\n",
       "    </tr>\n",
       "    <tr>\n",
       "      <th>Legendary</th>\n",
       "      <td>1.000000</td>\n",
       "    </tr>\n",
       "  </tbody>\n",
       "</table>\n",
       "</div>"
      ],
      "text/plain": [
       "                     0\n",
       "#           468.652174\n",
       "Total       620.217391\n",
       "HP           94.000000\n",
       "Attack      108.173913\n",
       "Defense     102.021739\n",
       "Sp. Atk     113.456522\n",
       "Sp. Def     106.978261\n",
       "Speed        95.586957\n",
       "Generation    3.782609\n",
       "Legendary     1.000000"
      ]
     },
     "execution_count": 12,
     "metadata": {},
     "output_type": "execute_result"
    }
   ],
   "source": [
    "p_cleaned.loc[p_cleaned['Legendary'] == True].mean().to_frame()"
   ]
  },
  {
   "cell_type": "markdown",
   "id": "spread-macro",
   "metadata": {},
   "source": [
    "Average of the total stats of each pokemon's primary type "
   ]
  },
  {
   "cell_type": "code",
   "execution_count": 13,
   "id": "imperial-exception",
   "metadata": {},
   "outputs": [],
   "source": [
    "stats = list(p_cleaned.columns)[4:11]\n",
    "averages_per_primary_type = {}\n",
    "\n",
    "for stat in stats:\n",
    "    averages_per_primary_type[stat] = {  }     \n"
   ]
  },
  {
   "cell_type": "code",
   "execution_count": 14,
   "id": "distributed-spotlight",
   "metadata": {},
   "outputs": [
    {
     "data": {
      "text/html": [
       "<div>\n",
       "<style scoped>\n",
       "    .dataframe tbody tr th:only-of-type {\n",
       "        vertical-align: middle;\n",
       "    }\n",
       "\n",
       "    .dataframe tbody tr th {\n",
       "        vertical-align: top;\n",
       "    }\n",
       "\n",
       "    .dataframe thead th {\n",
       "        text-align: right;\n",
       "    }\n",
       "</style>\n",
       "<table border=\"1\" class=\"dataframe\">\n",
       "  <thead>\n",
       "    <tr style=\"text-align: right;\">\n",
       "      <th></th>\n",
       "      <th>Total</th>\n",
       "      <th>HP</th>\n",
       "      <th>Attack</th>\n",
       "      <th>Defense</th>\n",
       "      <th>Sp. Atk</th>\n",
       "      <th>Sp. Def</th>\n",
       "      <th>Speed</th>\n",
       "    </tr>\n",
       "  </thead>\n",
       "  <tbody>\n",
       "    <tr>\n",
       "      <th>Grass</th>\n",
       "      <td>409.560606</td>\n",
       "      <td>66.196970</td>\n",
       "      <td>70.909091</td>\n",
       "      <td>69.363636</td>\n",
       "      <td>74.333333</td>\n",
       "      <td>68.863636</td>\n",
       "      <td>59.893939</td>\n",
       "    </tr>\n",
       "    <tr>\n",
       "      <th>Fire</th>\n",
       "      <td>443.021277</td>\n",
       "      <td>68.595745</td>\n",
       "      <td>82.212766</td>\n",
       "      <td>64.893617</td>\n",
       "      <td>83.468085</td>\n",
       "      <td>69.468085</td>\n",
       "      <td>74.382979</td>\n",
       "    </tr>\n",
       "    <tr>\n",
       "      <th>Water</th>\n",
       "      <td>417.200000</td>\n",
       "      <td>70.866667</td>\n",
       "      <td>71.047619</td>\n",
       "      <td>70.485714</td>\n",
       "      <td>71.714286</td>\n",
       "      <td>68.076190</td>\n",
       "      <td>65.009524</td>\n",
       "    </tr>\n",
       "    <tr>\n",
       "      <th>Bug</th>\n",
       "      <td>365.126984</td>\n",
       "      <td>55.952381</td>\n",
       "      <td>65.222222</td>\n",
       "      <td>67.698413</td>\n",
       "      <td>54.031746</td>\n",
       "      <td>62.158730</td>\n",
       "      <td>60.063492</td>\n",
       "    </tr>\n",
       "    <tr>\n",
       "      <th>Normal</th>\n",
       "      <td>392.161290</td>\n",
       "      <td>76.526882</td>\n",
       "      <td>71.731183</td>\n",
       "      <td>57.795699</td>\n",
       "      <td>54.451613</td>\n",
       "      <td>62.000000</td>\n",
       "      <td>69.655914</td>\n",
       "    </tr>\n",
       "    <tr>\n",
       "      <th>Poison</th>\n",
       "      <td>399.142857</td>\n",
       "      <td>67.250000</td>\n",
       "      <td>74.678571</td>\n",
       "      <td>68.821429</td>\n",
       "      <td>60.428571</td>\n",
       "      <td>64.392857</td>\n",
       "      <td>63.571429</td>\n",
       "    </tr>\n",
       "    <tr>\n",
       "      <th>Electric</th>\n",
       "      <td>420.694444</td>\n",
       "      <td>59.500000</td>\n",
       "      <td>67.777778</td>\n",
       "      <td>59.083333</td>\n",
       "      <td>83.083333</td>\n",
       "      <td>67.722222</td>\n",
       "      <td>83.527778</td>\n",
       "    </tr>\n",
       "    <tr>\n",
       "      <th>Ground</th>\n",
       "      <td>421.000000</td>\n",
       "      <td>72.400000</td>\n",
       "      <td>91.300000</td>\n",
       "      <td>82.166667</td>\n",
       "      <td>51.733333</td>\n",
       "      <td>61.266667</td>\n",
       "      <td>62.133333</td>\n",
       "    </tr>\n",
       "    <tr>\n",
       "      <th>Fairy</th>\n",
       "      <td>413.176471</td>\n",
       "      <td>74.117647</td>\n",
       "      <td>61.529412</td>\n",
       "      <td>65.705882</td>\n",
       "      <td>78.529412</td>\n",
       "      <td>84.705882</td>\n",
       "      <td>48.588235</td>\n",
       "    </tr>\n",
       "    <tr>\n",
       "      <th>Fighting</th>\n",
       "      <td>404.360000</td>\n",
       "      <td>70.240000</td>\n",
       "      <td>94.720000</td>\n",
       "      <td>64.280000</td>\n",
       "      <td>48.560000</td>\n",
       "      <td>63.680000</td>\n",
       "      <td>62.880000</td>\n",
       "    </tr>\n",
       "    <tr>\n",
       "      <th>Psychic</th>\n",
       "      <td>442.489362</td>\n",
       "      <td>70.617021</td>\n",
       "      <td>61.276596</td>\n",
       "      <td>65.042553</td>\n",
       "      <td>90.595745</td>\n",
       "      <td>82.382979</td>\n",
       "      <td>72.574468</td>\n",
       "    </tr>\n",
       "    <tr>\n",
       "      <th>Rock</th>\n",
       "      <td>437.804878</td>\n",
       "      <td>64.536585</td>\n",
       "      <td>88.463415</td>\n",
       "      <td>99.756098</td>\n",
       "      <td>60.048780</td>\n",
       "      <td>73.073171</td>\n",
       "      <td>51.926829</td>\n",
       "    </tr>\n",
       "    <tr>\n",
       "      <th>Ghost</th>\n",
       "      <td>423.652174</td>\n",
       "      <td>61.565217</td>\n",
       "      <td>66.652174</td>\n",
       "      <td>76.826087</td>\n",
       "      <td>80.434783</td>\n",
       "      <td>77.347826</td>\n",
       "      <td>60.826087</td>\n",
       "    </tr>\n",
       "    <tr>\n",
       "      <th>Ice</th>\n",
       "      <td>427.086957</td>\n",
       "      <td>71.652174</td>\n",
       "      <td>70.695652</td>\n",
       "      <td>71.043478</td>\n",
       "      <td>75.695652</td>\n",
       "      <td>76.130435</td>\n",
       "      <td>61.869565</td>\n",
       "    </tr>\n",
       "    <tr>\n",
       "      <th>Dragon</th>\n",
       "      <td>501.958333</td>\n",
       "      <td>78.041667</td>\n",
       "      <td>102.625000</td>\n",
       "      <td>79.125000</td>\n",
       "      <td>82.458333</td>\n",
       "      <td>83.041667</td>\n",
       "      <td>76.666667</td>\n",
       "    </tr>\n",
       "    <tr>\n",
       "      <th>Dark</th>\n",
       "      <td>434.750000</td>\n",
       "      <td>67.178571</td>\n",
       "      <td>86.250000</td>\n",
       "      <td>67.928571</td>\n",
       "      <td>70.500000</td>\n",
       "      <td>67.500000</td>\n",
       "      <td>75.392857</td>\n",
       "    </tr>\n",
       "    <tr>\n",
       "      <th>Steel</th>\n",
       "      <td>464.909091</td>\n",
       "      <td>64.818182</td>\n",
       "      <td>88.090909</td>\n",
       "      <td>114.863636</td>\n",
       "      <td>68.090909</td>\n",
       "      <td>74.863636</td>\n",
       "      <td>54.181818</td>\n",
       "    </tr>\n",
       "    <tr>\n",
       "      <th>Flying</th>\n",
       "      <td>453.333333</td>\n",
       "      <td>68.000000</td>\n",
       "      <td>71.666667</td>\n",
       "      <td>61.666667</td>\n",
       "      <td>89.000000</td>\n",
       "      <td>66.666667</td>\n",
       "      <td>96.333333</td>\n",
       "    </tr>\n",
       "  </tbody>\n",
       "</table>\n",
       "</div>"
      ],
      "text/plain": [
       "               Total         HP      Attack     Defense    Sp. Atk    Sp. Def  \\\n",
       "Grass     409.560606  66.196970   70.909091   69.363636  74.333333  68.863636   \n",
       "Fire      443.021277  68.595745   82.212766   64.893617  83.468085  69.468085   \n",
       "Water     417.200000  70.866667   71.047619   70.485714  71.714286  68.076190   \n",
       "Bug       365.126984  55.952381   65.222222   67.698413  54.031746  62.158730   \n",
       "Normal    392.161290  76.526882   71.731183   57.795699  54.451613  62.000000   \n",
       "Poison    399.142857  67.250000   74.678571   68.821429  60.428571  64.392857   \n",
       "Electric  420.694444  59.500000   67.777778   59.083333  83.083333  67.722222   \n",
       "Ground    421.000000  72.400000   91.300000   82.166667  51.733333  61.266667   \n",
       "Fairy     413.176471  74.117647   61.529412   65.705882  78.529412  84.705882   \n",
       "Fighting  404.360000  70.240000   94.720000   64.280000  48.560000  63.680000   \n",
       "Psychic   442.489362  70.617021   61.276596   65.042553  90.595745  82.382979   \n",
       "Rock      437.804878  64.536585   88.463415   99.756098  60.048780  73.073171   \n",
       "Ghost     423.652174  61.565217   66.652174   76.826087  80.434783  77.347826   \n",
       "Ice       427.086957  71.652174   70.695652   71.043478  75.695652  76.130435   \n",
       "Dragon    501.958333  78.041667  102.625000   79.125000  82.458333  83.041667   \n",
       "Dark      434.750000  67.178571   86.250000   67.928571  70.500000  67.500000   \n",
       "Steel     464.909091  64.818182   88.090909  114.863636  68.090909  74.863636   \n",
       "Flying    453.333333  68.000000   71.666667   61.666667  89.000000  66.666667   \n",
       "\n",
       "              Speed  \n",
       "Grass     59.893939  \n",
       "Fire      74.382979  \n",
       "Water     65.009524  \n",
       "Bug       60.063492  \n",
       "Normal    69.655914  \n",
       "Poison    63.571429  \n",
       "Electric  83.527778  \n",
       "Ground    62.133333  \n",
       "Fairy     48.588235  \n",
       "Fighting  62.880000  \n",
       "Psychic   72.574468  \n",
       "Rock      51.926829  \n",
       "Ghost     60.826087  \n",
       "Ice       61.869565  \n",
       "Dragon    76.666667  \n",
       "Dark      75.392857  \n",
       "Steel     54.181818  \n",
       "Flying    96.333333  "
      ]
     },
     "execution_count": 14,
     "metadata": {},
     "output_type": "execute_result"
    }
   ],
   "source": [
    "unique_types = list(pd.unique(p_cleaned['Type 1']))\n",
    "for stat in stats:\n",
    "    for pokemon_type in unique_types:\n",
    "        averages_per_primary_type[stat][pokemon_type] = p_cleaned.loc[p_cleaned['Type 1']==pokemon_type][stat].mean()\n",
    "\n",
    "df_averages_per_primary_type = pd.DataFrame.from_dict(averages_per_primary_type)\n",
    "df_averages_per_primary_type"
   ]
  },
  {
   "cell_type": "code",
   "execution_count": 15,
   "id": "willing-tucson",
   "metadata": {},
   "outputs": [],
   "source": [
    "def plot_average_stats(stat, title, xlabel):\n",
    "    total_sorted = df_averages_per_primary_type[stat].sort_values(ascending=True).to_frame()\n",
    "    total_viz = total_sorted.reset_index()\n",
    "    # total_viz.dtypes\n",
    "    ax = total_viz.plot.barh(figsize=(12, 9), x='index')\n",
    "    ax.set_title(title)\n",
    "    ax.set_ylabel(\"Type\")\n",
    "    ax.set_xlabel(xlabel)"
   ]
  },
  {
   "cell_type": "code",
   "execution_count": 16,
   "id": "interstate-remark",
   "metadata": {},
   "outputs": [
    {
     "data": {
      "image/png": "[encoded data removed]",
      "text/plain": [
       "<Figure size 864x648 with 1 Axes>"
      ]
     },
     "metadata": {
      "needs_background": "light"
     },
     "output_type": "display_data"
    }
   ],
   "source": [
    "plot_average_stats('Total', 'Average of total stats per primary type', 'Average Stats')"
   ]
  },
  {
   "cell_type": "code",
   "execution_count": 17,
   "id": "documented-biotechnology",
   "metadata": {},
   "outputs": [
    {
     "data": {
      "image/png": "[encoded data removed]",
      "text/plain": [
       "<Figure size 864x648 with 1 Axes>"
      ]
     },
     "metadata": {
      "needs_background": "light"
     },
     "output_type": "display_data"
    }
   ],
   "source": [
    "plot_average_stats('Attack', 'Average attack per primary type', 'Average Attack')"
   ]
  },
  {
   "cell_type": "code",
   "execution_count": 18,
   "id": "fewer-pledge",
   "metadata": {},
   "outputs": [
    {
     "data": {
      "image/png": "[encoded data removed]",
      "text/plain": [
       "<Figure size 864x648 with 1 Axes>"
      ]
     },
     "metadata": {
      "needs_background": "light"
     },
     "output_type": "display_data"
    }
   ],
   "source": [
    "plot_average_stats('HP', 'Average HP per primary type', 'Average HP')"
   ]
  },
  {
   "cell_type": "code",
   "execution_count": 19,
   "id": "pharmaceutical-astrology",
   "metadata": {},
   "outputs": [
    {
     "data": {
      "image/png": "[encoded data removed]",
      "text/plain": [
       "<Figure size 864x648 with 1 Axes>"
      ]
     },
     "metadata": {
      "needs_background": "light"
     },
     "output_type": "display_data"
    }
   ],
   "source": [
    "plot_average_stats('Defense', 'Average Defense per primary type', 'Average Defense')"
   ]
  },
  {
   "cell_type": "code",
   "execution_count": 24,
   "id": "convinced-steel",
   "metadata": {},
   "outputs": [
    {
     "data": {
      "image/png": "[encoded data removed]",
      "text/plain": [
       "<Figure size 864x648 with 1 Axes>"
      ]
     },
     "metadata": {
      "needs_background": "light"
     },
     "output_type": "display_data"
    }
   ],
   "source": [
    "plot_average_stats('Sp. Atk', 'Average Special Attack per primary type', 'Average Special Attack')"
   ]
  },
  {
   "cell_type": "code",
   "execution_count": 25,
   "id": "eleven-isolation",
   "metadata": {},
   "outputs": [
    {
     "data": {
      "image/png": "[encoded data removed]",
      "text/plain": [
       "<Figure size 864x648 with 1 Axes>"
      ]
     },
     "metadata": {
      "needs_background": "light"
     },
     "output_type": "display_data"
    }
   ],
   "source": [
    "plot_average_stats('Sp. Def', 'Average Special Defense per primary type', 'Average Special Defense')"
   ]
  },
  {
   "cell_type": "code",
   "execution_count": 26,
   "id": "identified-samba",
   "metadata": {},
   "outputs": [
    {
     "data": {
      "image/png": "[encoded data removed]",
      "text/plain": [
       "<Figure size 864x648 with 1 Axes>"
      ]
     },
     "metadata": {
      "needs_background": "light"
     },
     "output_type": "display_data"
    }
   ],
   "source": [
    "plot_average_stats('Speed', 'Average Speed per primary type', 'Average Speed')"
   ]
  },
  {
   "cell_type": "code",
   "execution_count": null,
   "id": "roman-profile",
   "metadata": {},
   "outputs": [],
   "source": [
    "stats_correlation = p_cleaned.corr()"
   ]
  }
 ],
 "metadata": {
  "kernelspec": {
   "display_name": "Python 3",
   "language": "python",
   "name": "python3"
  },
  "language_info": {
   "codemirror_mode": {
    "name": "ipython",
    "version": 3
   },
   "file_extension": ".py",
   "mimetype": "text/x-python",
   "name": "python",
   "nbconvert_exporter": "python",
   "pygments_lexer": "ipython3",
   "version": "3.9.4"
  }
 },
 "nbformat": 4,
 "nbformat_minor": 5
}
